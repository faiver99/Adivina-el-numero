{
  "nbformat": 4,
  "nbformat_minor": 0,
  "metadata": {
    "colab": {
      "provenance": [],
      "toc_visible": true,
      "include_colab_link": true
    },
    "kernelspec": {
      "name": "python3",
      "display_name": "Python 3"
    },
    "language_info": {
      "name": "python"
    },
    "widgets": {
      "application/vnd.jupyter.widget-state+json": {
        "3abb3d0494b54f848da904b86bf116e1": {
          "model_module": "@jupyter-widgets/controls",
          "model_name": "TextModel",
          "model_module_version": "1.5.0",
          "state": {
            "_dom_classes": [],
            "_model_module": "@jupyter-widgets/controls",
            "_model_module_version": "1.5.0",
            "_model_name": "TextModel",
            "_view_count": null,
            "_view_module": "@jupyter-widgets/controls",
            "_view_module_version": "1.5.0",
            "_view_name": "TextView",
            "continuous_update": true,
            "description": "Nombre Tarea 1   :",
            "description_tooltip": null,
            "disabled": false,
            "layout": "IPY_MODEL_0afcc54736744f55ace808b5956bdd2f",
            "placeholder": "​",
            "style": "IPY_MODEL_34f8c19b3163485ebd87d0f5145015e8",
            "value": "sad"
          }
        },
        "0afcc54736744f55ace808b5956bdd2f": {
          "model_module": "@jupyter-widgets/base",
          "model_name": "LayoutModel",
          "model_module_version": "1.2.0",
          "state": {
            "_model_module": "@jupyter-widgets/base",
            "_model_module_version": "1.2.0",
            "_model_name": "LayoutModel",
            "_view_count": null,
            "_view_module": "@jupyter-widgets/base",
            "_view_module_version": "1.2.0",
            "_view_name": "LayoutView",
            "align_content": null,
            "align_items": null,
            "align_self": null,
            "border": null,
            "bottom": null,
            "display": null,
            "flex": null,
            "flex_flow": null,
            "grid_area": null,
            "grid_auto_columns": null,
            "grid_auto_flow": null,
            "grid_auto_rows": null,
            "grid_column": null,
            "grid_gap": null,
            "grid_row": null,
            "grid_template_areas": null,
            "grid_template_columns": null,
            "grid_template_rows": null,
            "height": null,
            "justify_content": null,
            "justify_items": null,
            "left": null,
            "margin": null,
            "max_height": null,
            "max_width": null,
            "min_height": null,
            "min_width": null,
            "object_fit": null,
            "object_position": null,
            "order": null,
            "overflow": null,
            "overflow_x": null,
            "overflow_y": null,
            "padding": null,
            "right": null,
            "top": null,
            "visibility": null,
            "width": null
          }
        },
        "34f8c19b3163485ebd87d0f5145015e8": {
          "model_module": "@jupyter-widgets/controls",
          "model_name": "DescriptionStyleModel",
          "model_module_version": "1.5.0",
          "state": {
            "_model_module": "@jupyter-widgets/controls",
            "_model_module_version": "1.5.0",
            "_model_name": "DescriptionStyleModel",
            "_view_count": null,
            "_view_module": "@jupyter-widgets/base",
            "_view_module_version": "1.2.0",
            "_view_name": "StyleView",
            "description_width": ""
          }
        },
        "e7632072ab6b49ec9b24ddcb44d4b386": {
          "model_module": "@jupyter-widgets/controls",
          "model_name": "FloatTextModel",
          "model_module_version": "1.5.0",
          "state": {
            "_dom_classes": [],
            "_model_module": "@jupyter-widgets/controls",
            "_model_module_version": "1.5.0",
            "_model_name": "FloatTextModel",
            "_view_count": null,
            "_view_module": "@jupyter-widgets/controls",
            "_view_module_version": "1.5.0",
            "_view_name": "FloatTextView",
            "continuous_update": false,
            "description": "Peso Tarea 1   :",
            "description_tooltip": null,
            "disabled": false,
            "layout": "IPY_MODEL_3de54c44c213420e82aefca06f3ecb23",
            "step": null,
            "style": "IPY_MODEL_6d4bc5dc75a64addb4a342f855f16b4c",
            "value": 0.25
          }
        },
        "3de54c44c213420e82aefca06f3ecb23": {
          "model_module": "@jupyter-widgets/base",
          "model_name": "LayoutModel",
          "model_module_version": "1.2.0",
          "state": {
            "_model_module": "@jupyter-widgets/base",
            "_model_module_version": "1.2.0",
            "_model_name": "LayoutModel",
            "_view_count": null,
            "_view_module": "@jupyter-widgets/base",
            "_view_module_version": "1.2.0",
            "_view_name": "LayoutView",
            "align_content": null,
            "align_items": null,
            "align_self": null,
            "border": null,
            "bottom": null,
            "display": null,
            "flex": null,
            "flex_flow": null,
            "grid_area": null,
            "grid_auto_columns": null,
            "grid_auto_flow": null,
            "grid_auto_rows": null,
            "grid_column": null,
            "grid_gap": null,
            "grid_row": null,
            "grid_template_areas": null,
            "grid_template_columns": null,
            "grid_template_rows": null,
            "height": null,
            "justify_content": null,
            "justify_items": null,
            "left": null,
            "margin": null,
            "max_height": null,
            "max_width": null,
            "min_height": null,
            "min_width": null,
            "object_fit": null,
            "object_position": null,
            "order": null,
            "overflow": null,
            "overflow_x": null,
            "overflow_y": null,
            "padding": null,
            "right": null,
            "top": null,
            "visibility": null,
            "width": null
          }
        },
        "6d4bc5dc75a64addb4a342f855f16b4c": {
          "model_module": "@jupyter-widgets/controls",
          "model_name": "DescriptionStyleModel",
          "model_module_version": "1.5.0",
          "state": {
            "_model_module": "@jupyter-widgets/controls",
            "_model_module_version": "1.5.0",
            "_model_name": "DescriptionStyleModel",
            "_view_count": null,
            "_view_module": "@jupyter-widgets/base",
            "_view_module_version": "1.2.0",
            "_view_name": "StyleView",
            "description_width": ""
          }
        },
        "119982ebb1bd4719a2dc32e9277359f8": {
          "model_module": "@jupyter-widgets/controls",
          "model_name": "FloatTextModel",
          "model_module_version": "1.5.0",
          "state": {
            "_dom_classes": [],
            "_model_module": "@jupyter-widgets/controls",
            "_model_module_version": "1.5.0",
            "_model_name": "FloatTextModel",
            "_view_count": null,
            "_view_module": "@jupyter-widgets/controls",
            "_view_module_version": "1.5.0",
            "_view_name": "FloatTextView",
            "continuous_update": false,
            "description": "Nota Tarea 1   :",
            "description_tooltip": null,
            "disabled": false,
            "layout": "IPY_MODEL_e220f2f46a414378b7efa68737cce7ac",
            "step": null,
            "style": "IPY_MODEL_800329765ceb44118e8baf127b32d7ab",
            "value": 5
          }
        },
        "e220f2f46a414378b7efa68737cce7ac": {
          "model_module": "@jupyter-widgets/base",
          "model_name": "LayoutModel",
          "model_module_version": "1.2.0",
          "state": {
            "_model_module": "@jupyter-widgets/base",
            "_model_module_version": "1.2.0",
            "_model_name": "LayoutModel",
            "_view_count": null,
            "_view_module": "@jupyter-widgets/base",
            "_view_module_version": "1.2.0",
            "_view_name": "LayoutView",
            "align_content": null,
            "align_items": null,
            "align_self": null,
            "border": null,
            "bottom": null,
            "display": null,
            "flex": null,
            "flex_flow": null,
            "grid_area": null,
            "grid_auto_columns": null,
            "grid_auto_flow": null,
            "grid_auto_rows": null,
            "grid_column": null,
            "grid_gap": null,
            "grid_row": null,
            "grid_template_areas": null,
            "grid_template_columns": null,
            "grid_template_rows": null,
            "height": null,
            "justify_content": null,
            "justify_items": null,
            "left": null,
            "margin": null,
            "max_height": null,
            "max_width": null,
            "min_height": null,
            "min_width": null,
            "object_fit": null,
            "object_position": null,
            "order": null,
            "overflow": null,
            "overflow_x": null,
            "overflow_y": null,
            "padding": null,
            "right": null,
            "top": null,
            "visibility": null,
            "width": null
          }
        },
        "800329765ceb44118e8baf127b32d7ab": {
          "model_module": "@jupyter-widgets/controls",
          "model_name": "DescriptionStyleModel",
          "model_module_version": "1.5.0",
          "state": {
            "_model_module": "@jupyter-widgets/controls",
            "_model_module_version": "1.5.0",
            "_model_name": "DescriptionStyleModel",
            "_view_count": null,
            "_view_module": "@jupyter-widgets/base",
            "_view_module_version": "1.2.0",
            "_view_name": "StyleView",
            "description_width": ""
          }
        },
        "47d5b006c3fe4ad5970ded0c445d4aea": {
          "model_module": "@jupyter-widgets/controls",
          "model_name": "TextModel",
          "model_module_version": "1.5.0",
          "state": {
            "_dom_classes": [],
            "_model_module": "@jupyter-widgets/controls",
            "_model_module_version": "1.5.0",
            "_model_name": "TextModel",
            "_view_count": null,
            "_view_module": "@jupyter-widgets/controls",
            "_view_module_version": "1.5.0",
            "_view_name": "TextView",
            "continuous_update": true,
            "description": "Nombre Tarea 2:",
            "description_tooltip": null,
            "disabled": false,
            "layout": "IPY_MODEL_85b86695589640c3b3a9ace450d491db",
            "placeholder": "​",
            "style": "IPY_MODEL_2a7794cba1784ce09187dbb1794ddebf",
            "value": "re"
          }
        },
        "85b86695589640c3b3a9ace450d491db": {
          "model_module": "@jupyter-widgets/base",
          "model_name": "LayoutModel",
          "model_module_version": "1.2.0",
          "state": {
            "_model_module": "@jupyter-widgets/base",
            "_model_module_version": "1.2.0",
            "_model_name": "LayoutModel",
            "_view_count": null,
            "_view_module": "@jupyter-widgets/base",
            "_view_module_version": "1.2.0",
            "_view_name": "LayoutView",
            "align_content": null,
            "align_items": null,
            "align_self": null,
            "border": null,
            "bottom": null,
            "display": null,
            "flex": null,
            "flex_flow": null,
            "grid_area": null,
            "grid_auto_columns": null,
            "grid_auto_flow": null,
            "grid_auto_rows": null,
            "grid_column": null,
            "grid_gap": null,
            "grid_row": null,
            "grid_template_areas": null,
            "grid_template_columns": null,
            "grid_template_rows": null,
            "height": null,
            "justify_content": null,
            "justify_items": null,
            "left": null,
            "margin": null,
            "max_height": null,
            "max_width": null,
            "min_height": null,
            "min_width": null,
            "object_fit": null,
            "object_position": null,
            "order": null,
            "overflow": null,
            "overflow_x": null,
            "overflow_y": null,
            "padding": null,
            "right": null,
            "top": null,
            "visibility": null,
            "width": null
          }
        },
        "2a7794cba1784ce09187dbb1794ddebf": {
          "model_module": "@jupyter-widgets/controls",
          "model_name": "DescriptionStyleModel",
          "model_module_version": "1.5.0",
          "state": {
            "_model_module": "@jupyter-widgets/controls",
            "_model_module_version": "1.5.0",
            "_model_name": "DescriptionStyleModel",
            "_view_count": null,
            "_view_module": "@jupyter-widgets/base",
            "_view_module_version": "1.2.0",
            "_view_name": "StyleView",
            "description_width": ""
          }
        },
        "350e0320ca3446138c88325b9108c1c2": {
          "model_module": "@jupyter-widgets/controls",
          "model_name": "FloatTextModel",
          "model_module_version": "1.5.0",
          "state": {
            "_dom_classes": [],
            "_model_module": "@jupyter-widgets/controls",
            "_model_module_version": "1.5.0",
            "_model_name": "FloatTextModel",
            "_view_count": null,
            "_view_module": "@jupyter-widgets/controls",
            "_view_module_version": "1.5.0",
            "_view_name": "FloatTextView",
            "continuous_update": false,
            "description": "Peso Tarea 2:",
            "description_tooltip": null,
            "disabled": false,
            "layout": "IPY_MODEL_d87de21c840440388b53f380317bc00e",
            "step": null,
            "style": "IPY_MODEL_a2a0491a9d624d88a0b2c28492c15570",
            "value": 0.25
          }
        },
        "d87de21c840440388b53f380317bc00e": {
          "model_module": "@jupyter-widgets/base",
          "model_name": "LayoutModel",
          "model_module_version": "1.2.0",
          "state": {
            "_model_module": "@jupyter-widgets/base",
            "_model_module_version": "1.2.0",
            "_model_name": "LayoutModel",
            "_view_count": null,
            "_view_module": "@jupyter-widgets/base",
            "_view_module_version": "1.2.0",
            "_view_name": "LayoutView",
            "align_content": null,
            "align_items": null,
            "align_self": null,
            "border": null,
            "bottom": null,
            "display": null,
            "flex": null,
            "flex_flow": null,
            "grid_area": null,
            "grid_auto_columns": null,
            "grid_auto_flow": null,
            "grid_auto_rows": null,
            "grid_column": null,
            "grid_gap": null,
            "grid_row": null,
            "grid_template_areas": null,
            "grid_template_columns": null,
            "grid_template_rows": null,
            "height": null,
            "justify_content": null,
            "justify_items": null,
            "left": null,
            "margin": null,
            "max_height": null,
            "max_width": null,
            "min_height": null,
            "min_width": null,
            "object_fit": null,
            "object_position": null,
            "order": null,
            "overflow": null,
            "overflow_x": null,
            "overflow_y": null,
            "padding": null,
            "right": null,
            "top": null,
            "visibility": null,
            "width": null
          }
        },
        "a2a0491a9d624d88a0b2c28492c15570": {
          "model_module": "@jupyter-widgets/controls",
          "model_name": "DescriptionStyleModel",
          "model_module_version": "1.5.0",
          "state": {
            "_model_module": "@jupyter-widgets/controls",
            "_model_module_version": "1.5.0",
            "_model_name": "DescriptionStyleModel",
            "_view_count": null,
            "_view_module": "@jupyter-widgets/base",
            "_view_module_version": "1.2.0",
            "_view_name": "StyleView",
            "description_width": ""
          }
        },
        "5ff3a51b028c4781b4ff64d096ebdca4": {
          "model_module": "@jupyter-widgets/controls",
          "model_name": "FloatTextModel",
          "model_module_version": "1.5.0",
          "state": {
            "_dom_classes": [],
            "_model_module": "@jupyter-widgets/controls",
            "_model_module_version": "1.5.0",
            "_model_name": "FloatTextModel",
            "_view_count": null,
            "_view_module": "@jupyter-widgets/controls",
            "_view_module_version": "1.5.0",
            "_view_name": "FloatTextView",
            "continuous_update": false,
            "description": "Nota Tarea 2:",
            "description_tooltip": null,
            "disabled": false,
            "layout": "IPY_MODEL_6b502a9f6e3e481ab47899ca15897770",
            "step": null,
            "style": "IPY_MODEL_3ea7b2ed866f4d7baf05258637bcdd82",
            "value": 5
          }
        },
        "6b502a9f6e3e481ab47899ca15897770": {
          "model_module": "@jupyter-widgets/base",
          "model_name": "LayoutModel",
          "model_module_version": "1.2.0",
          "state": {
            "_model_module": "@jupyter-widgets/base",
            "_model_module_version": "1.2.0",
            "_model_name": "LayoutModel",
            "_view_count": null,
            "_view_module": "@jupyter-widgets/base",
            "_view_module_version": "1.2.0",
            "_view_name": "LayoutView",
            "align_content": null,
            "align_items": null,
            "align_self": null,
            "border": null,
            "bottom": null,
            "display": null,
            "flex": null,
            "flex_flow": null,
            "grid_area": null,
            "grid_auto_columns": null,
            "grid_auto_flow": null,
            "grid_auto_rows": null,
            "grid_column": null,
            "grid_gap": null,
            "grid_row": null,
            "grid_template_areas": null,
            "grid_template_columns": null,
            "grid_template_rows": null,
            "height": null,
            "justify_content": null,
            "justify_items": null,
            "left": null,
            "margin": null,
            "max_height": null,
            "max_width": null,
            "min_height": null,
            "min_width": null,
            "object_fit": null,
            "object_position": null,
            "order": null,
            "overflow": null,
            "overflow_x": null,
            "overflow_y": null,
            "padding": null,
            "right": null,
            "top": null,
            "visibility": null,
            "width": null
          }
        },
        "3ea7b2ed866f4d7baf05258637bcdd82": {
          "model_module": "@jupyter-widgets/controls",
          "model_name": "DescriptionStyleModel",
          "model_module_version": "1.5.0",
          "state": {
            "_model_module": "@jupyter-widgets/controls",
            "_model_module_version": "1.5.0",
            "_model_name": "DescriptionStyleModel",
            "_view_count": null,
            "_view_module": "@jupyter-widgets/base",
            "_view_module_version": "1.2.0",
            "_view_name": "StyleView",
            "description_width": ""
          }
        },
        "3b7e5400fa1846c5bcbc7deba8e986b7": {
          "model_module": "@jupyter-widgets/controls",
          "model_name": "TextModel",
          "model_module_version": "1.5.0",
          "state": {
            "_dom_classes": [],
            "_model_module": "@jupyter-widgets/controls",
            "_model_module_version": "1.5.0",
            "_model_name": "TextModel",
            "_view_count": null,
            "_view_module": "@jupyter-widgets/controls",
            "_view_module_version": "1.5.0",
            "_view_name": "TextView",
            "continuous_update": true,
            "description": "Nombre Tarea 3:",
            "description_tooltip": null,
            "disabled": false,
            "layout": "IPY_MODEL_33d6d1fc493e4f23b34eb93414b136a5",
            "placeholder": "​",
            "style": "IPY_MODEL_0aae13436d3842aba7347125bbd39ff2",
            "value": "ere"
          }
        },
        "33d6d1fc493e4f23b34eb93414b136a5": {
          "model_module": "@jupyter-widgets/base",
          "model_name": "LayoutModel",
          "model_module_version": "1.2.0",
          "state": {
            "_model_module": "@jupyter-widgets/base",
            "_model_module_version": "1.2.0",
            "_model_name": "LayoutModel",
            "_view_count": null,
            "_view_module": "@jupyter-widgets/base",
            "_view_module_version": "1.2.0",
            "_view_name": "LayoutView",
            "align_content": null,
            "align_items": null,
            "align_self": null,
            "border": null,
            "bottom": null,
            "display": null,
            "flex": null,
            "flex_flow": null,
            "grid_area": null,
            "grid_auto_columns": null,
            "grid_auto_flow": null,
            "grid_auto_rows": null,
            "grid_column": null,
            "grid_gap": null,
            "grid_row": null,
            "grid_template_areas": null,
            "grid_template_columns": null,
            "grid_template_rows": null,
            "height": null,
            "justify_content": null,
            "justify_items": null,
            "left": null,
            "margin": null,
            "max_height": null,
            "max_width": null,
            "min_height": null,
            "min_width": null,
            "object_fit": null,
            "object_position": null,
            "order": null,
            "overflow": null,
            "overflow_x": null,
            "overflow_y": null,
            "padding": null,
            "right": null,
            "top": null,
            "visibility": null,
            "width": null
          }
        },
        "0aae13436d3842aba7347125bbd39ff2": {
          "model_module": "@jupyter-widgets/controls",
          "model_name": "DescriptionStyleModel",
          "model_module_version": "1.5.0",
          "state": {
            "_model_module": "@jupyter-widgets/controls",
            "_model_module_version": "1.5.0",
            "_model_name": "DescriptionStyleModel",
            "_view_count": null,
            "_view_module": "@jupyter-widgets/base",
            "_view_module_version": "1.2.0",
            "_view_name": "StyleView",
            "description_width": ""
          }
        },
        "dea0875903db47edacb27897385012e4": {
          "model_module": "@jupyter-widgets/controls",
          "model_name": "FloatTextModel",
          "model_module_version": "1.5.0",
          "state": {
            "_dom_classes": [],
            "_model_module": "@jupyter-widgets/controls",
            "_model_module_version": "1.5.0",
            "_model_name": "FloatTextModel",
            "_view_count": null,
            "_view_module": "@jupyter-widgets/controls",
            "_view_module_version": "1.5.0",
            "_view_name": "FloatTextView",
            "continuous_update": false,
            "description": "Peso Tarea 3:",
            "description_tooltip": null,
            "disabled": false,
            "layout": "IPY_MODEL_7099518e500c4d59aeab66880d4c7b92",
            "step": null,
            "style": "IPY_MODEL_bd837725eb214e618a98194714547254",
            "value": 0.25
          }
        },
        "7099518e500c4d59aeab66880d4c7b92": {
          "model_module": "@jupyter-widgets/base",
          "model_name": "LayoutModel",
          "model_module_version": "1.2.0",
          "state": {
            "_model_module": "@jupyter-widgets/base",
            "_model_module_version": "1.2.0",
            "_model_name": "LayoutModel",
            "_view_count": null,
            "_view_module": "@jupyter-widgets/base",
            "_view_module_version": "1.2.0",
            "_view_name": "LayoutView",
            "align_content": null,
            "align_items": null,
            "align_self": null,
            "border": null,
            "bottom": null,
            "display": null,
            "flex": null,
            "flex_flow": null,
            "grid_area": null,
            "grid_auto_columns": null,
            "grid_auto_flow": null,
            "grid_auto_rows": null,
            "grid_column": null,
            "grid_gap": null,
            "grid_row": null,
            "grid_template_areas": null,
            "grid_template_columns": null,
            "grid_template_rows": null,
            "height": null,
            "justify_content": null,
            "justify_items": null,
            "left": null,
            "margin": null,
            "max_height": null,
            "max_width": null,
            "min_height": null,
            "min_width": null,
            "object_fit": null,
            "object_position": null,
            "order": null,
            "overflow": null,
            "overflow_x": null,
            "overflow_y": null,
            "padding": null,
            "right": null,
            "top": null,
            "visibility": null,
            "width": null
          }
        },
        "bd837725eb214e618a98194714547254": {
          "model_module": "@jupyter-widgets/controls",
          "model_name": "DescriptionStyleModel",
          "model_module_version": "1.5.0",
          "state": {
            "_model_module": "@jupyter-widgets/controls",
            "_model_module_version": "1.5.0",
            "_model_name": "DescriptionStyleModel",
            "_view_count": null,
            "_view_module": "@jupyter-widgets/base",
            "_view_module_version": "1.2.0",
            "_view_name": "StyleView",
            "description_width": ""
          }
        },
        "747ba52aa60e4d7a8ea1ffc04e2deab6": {
          "model_module": "@jupyter-widgets/controls",
          "model_name": "FloatTextModel",
          "model_module_version": "1.5.0",
          "state": {
            "_dom_classes": [],
            "_model_module": "@jupyter-widgets/controls",
            "_model_module_version": "1.5.0",
            "_model_name": "FloatTextModel",
            "_view_count": null,
            "_view_module": "@jupyter-widgets/controls",
            "_view_module_version": "1.5.0",
            "_view_name": "FloatTextView",
            "continuous_update": false,
            "description": "Nota Tarea 3:",
            "description_tooltip": null,
            "disabled": false,
            "layout": "IPY_MODEL_9496cfa549ac4e8594f72a579aed32ae",
            "step": null,
            "style": "IPY_MODEL_3f3853d64b2247ed95dfd9f0b7051062",
            "value": 5
          }
        },
        "9496cfa549ac4e8594f72a579aed32ae": {
          "model_module": "@jupyter-widgets/base",
          "model_name": "LayoutModel",
          "model_module_version": "1.2.0",
          "state": {
            "_model_module": "@jupyter-widgets/base",
            "_model_module_version": "1.2.0",
            "_model_name": "LayoutModel",
            "_view_count": null,
            "_view_module": "@jupyter-widgets/base",
            "_view_module_version": "1.2.0",
            "_view_name": "LayoutView",
            "align_content": null,
            "align_items": null,
            "align_self": null,
            "border": null,
            "bottom": null,
            "display": null,
            "flex": null,
            "flex_flow": null,
            "grid_area": null,
            "grid_auto_columns": null,
            "grid_auto_flow": null,
            "grid_auto_rows": null,
            "grid_column": null,
            "grid_gap": null,
            "grid_row": null,
            "grid_template_areas": null,
            "grid_template_columns": null,
            "grid_template_rows": null,
            "height": null,
            "justify_content": null,
            "justify_items": null,
            "left": null,
            "margin": null,
            "max_height": null,
            "max_width": null,
            "min_height": null,
            "min_width": null,
            "object_fit": null,
            "object_position": null,
            "order": null,
            "overflow": null,
            "overflow_x": null,
            "overflow_y": null,
            "padding": null,
            "right": null,
            "top": null,
            "visibility": null,
            "width": null
          }
        },
        "3f3853d64b2247ed95dfd9f0b7051062": {
          "model_module": "@jupyter-widgets/controls",
          "model_name": "DescriptionStyleModel",
          "model_module_version": "1.5.0",
          "state": {
            "_model_module": "@jupyter-widgets/controls",
            "_model_module_version": "1.5.0",
            "_model_name": "DescriptionStyleModel",
            "_view_count": null,
            "_view_module": "@jupyter-widgets/base",
            "_view_module_version": "1.2.0",
            "_view_name": "StyleView",
            "description_width": ""
          }
        },
        "31f82ac0e8c64638a777e7ed530ec8df": {
          "model_module": "@jupyter-widgets/controls",
          "model_name": "TextModel",
          "model_module_version": "1.5.0",
          "state": {
            "_dom_classes": [],
            "_model_module": "@jupyter-widgets/controls",
            "_model_module_version": "1.5.0",
            "_model_name": "TextModel",
            "_view_count": null,
            "_view_module": "@jupyter-widgets/controls",
            "_view_module_version": "1.5.0",
            "_view_name": "TextView",
            "continuous_update": true,
            "description": "Nombre Tarea 4:",
            "description_tooltip": null,
            "disabled": false,
            "layout": "IPY_MODEL_828d1f8b8cfb4fa6aa9fe90256b2b8c7",
            "placeholder": "​",
            "style": "IPY_MODEL_934b797541f741208bf92eab239d7cb2",
            "value": "rererer"
          }
        },
        "828d1f8b8cfb4fa6aa9fe90256b2b8c7": {
          "model_module": "@jupyter-widgets/base",
          "model_name": "LayoutModel",
          "model_module_version": "1.2.0",
          "state": {
            "_model_module": "@jupyter-widgets/base",
            "_model_module_version": "1.2.0",
            "_model_name": "LayoutModel",
            "_view_count": null,
            "_view_module": "@jupyter-widgets/base",
            "_view_module_version": "1.2.0",
            "_view_name": "LayoutView",
            "align_content": null,
            "align_items": null,
            "align_self": null,
            "border": null,
            "bottom": null,
            "display": null,
            "flex": null,
            "flex_flow": null,
            "grid_area": null,
            "grid_auto_columns": null,
            "grid_auto_flow": null,
            "grid_auto_rows": null,
            "grid_column": null,
            "grid_gap": null,
            "grid_row": null,
            "grid_template_areas": null,
            "grid_template_columns": null,
            "grid_template_rows": null,
            "height": null,
            "justify_content": null,
            "justify_items": null,
            "left": null,
            "margin": null,
            "max_height": null,
            "max_width": null,
            "min_height": null,
            "min_width": null,
            "object_fit": null,
            "object_position": null,
            "order": null,
            "overflow": null,
            "overflow_x": null,
            "overflow_y": null,
            "padding": null,
            "right": null,
            "top": null,
            "visibility": null,
            "width": null
          }
        },
        "934b797541f741208bf92eab239d7cb2": {
          "model_module": "@jupyter-widgets/controls",
          "model_name": "DescriptionStyleModel",
          "model_module_version": "1.5.0",
          "state": {
            "_model_module": "@jupyter-widgets/controls",
            "_model_module_version": "1.5.0",
            "_model_name": "DescriptionStyleModel",
            "_view_count": null,
            "_view_module": "@jupyter-widgets/base",
            "_view_module_version": "1.2.0",
            "_view_name": "StyleView",
            "description_width": ""
          }
        },
        "3aa0cecb23fd4e939f6bb0eebcab3f24": {
          "model_module": "@jupyter-widgets/controls",
          "model_name": "FloatTextModel",
          "model_module_version": "1.5.0",
          "state": {
            "_dom_classes": [],
            "_model_module": "@jupyter-widgets/controls",
            "_model_module_version": "1.5.0",
            "_model_name": "FloatTextModel",
            "_view_count": null,
            "_view_module": "@jupyter-widgets/controls",
            "_view_module_version": "1.5.0",
            "_view_name": "FloatTextView",
            "continuous_update": false,
            "description": "Peso Tarea 4:",
            "description_tooltip": null,
            "disabled": false,
            "layout": "IPY_MODEL_35a38f74087942ebbb8465d9b73cb1a6",
            "step": null,
            "style": "IPY_MODEL_b4c5c8a62cee407db0273a91bb4df77d",
            "value": 0.25
          }
        },
        "35a38f74087942ebbb8465d9b73cb1a6": {
          "model_module": "@jupyter-widgets/base",
          "model_name": "LayoutModel",
          "model_module_version": "1.2.0",
          "state": {
            "_model_module": "@jupyter-widgets/base",
            "_model_module_version": "1.2.0",
            "_model_name": "LayoutModel",
            "_view_count": null,
            "_view_module": "@jupyter-widgets/base",
            "_view_module_version": "1.2.0",
            "_view_name": "LayoutView",
            "align_content": null,
            "align_items": null,
            "align_self": null,
            "border": null,
            "bottom": null,
            "display": null,
            "flex": null,
            "flex_flow": null,
            "grid_area": null,
            "grid_auto_columns": null,
            "grid_auto_flow": null,
            "grid_auto_rows": null,
            "grid_column": null,
            "grid_gap": null,
            "grid_row": null,
            "grid_template_areas": null,
            "grid_template_columns": null,
            "grid_template_rows": null,
            "height": null,
            "justify_content": null,
            "justify_items": null,
            "left": null,
            "margin": null,
            "max_height": null,
            "max_width": null,
            "min_height": null,
            "min_width": null,
            "object_fit": null,
            "object_position": null,
            "order": null,
            "overflow": null,
            "overflow_x": null,
            "overflow_y": null,
            "padding": null,
            "right": null,
            "top": null,
            "visibility": null,
            "width": null
          }
        },
        "b4c5c8a62cee407db0273a91bb4df77d": {
          "model_module": "@jupyter-widgets/controls",
          "model_name": "DescriptionStyleModel",
          "model_module_version": "1.5.0",
          "state": {
            "_model_module": "@jupyter-widgets/controls",
            "_model_module_version": "1.5.0",
            "_model_name": "DescriptionStyleModel",
            "_view_count": null,
            "_view_module": "@jupyter-widgets/base",
            "_view_module_version": "1.2.0",
            "_view_name": "StyleView",
            "description_width": ""
          }
        },
        "3aed120acc984ab297966fcb2f5c1af4": {
          "model_module": "@jupyter-widgets/controls",
          "model_name": "FloatTextModel",
          "model_module_version": "1.5.0",
          "state": {
            "_dom_classes": [],
            "_model_module": "@jupyter-widgets/controls",
            "_model_module_version": "1.5.0",
            "_model_name": "FloatTextModel",
            "_view_count": null,
            "_view_module": "@jupyter-widgets/controls",
            "_view_module_version": "1.5.0",
            "_view_name": "FloatTextView",
            "continuous_update": false,
            "description": "Nota Tarea 4:",
            "description_tooltip": null,
            "disabled": false,
            "layout": "IPY_MODEL_2dd5d9243f7e4b35998639f56a99c42b",
            "step": null,
            "style": "IPY_MODEL_3b49400051234b8bb7af1e8046077342",
            "value": 5
          }
        },
        "2dd5d9243f7e4b35998639f56a99c42b": {
          "model_module": "@jupyter-widgets/base",
          "model_name": "LayoutModel",
          "model_module_version": "1.2.0",
          "state": {
            "_model_module": "@jupyter-widgets/base",
            "_model_module_version": "1.2.0",
            "_model_name": "LayoutModel",
            "_view_count": null,
            "_view_module": "@jupyter-widgets/base",
            "_view_module_version": "1.2.0",
            "_view_name": "LayoutView",
            "align_content": null,
            "align_items": null,
            "align_self": null,
            "border": null,
            "bottom": null,
            "display": null,
            "flex": null,
            "flex_flow": null,
            "grid_area": null,
            "grid_auto_columns": null,
            "grid_auto_flow": null,
            "grid_auto_rows": null,
            "grid_column": null,
            "grid_gap": null,
            "grid_row": null,
            "grid_template_areas": null,
            "grid_template_columns": null,
            "grid_template_rows": null,
            "height": null,
            "justify_content": null,
            "justify_items": null,
            "left": null,
            "margin": null,
            "max_height": null,
            "max_width": null,
            "min_height": null,
            "min_width": null,
            "object_fit": null,
            "object_position": null,
            "order": null,
            "overflow": null,
            "overflow_x": null,
            "overflow_y": null,
            "padding": null,
            "right": null,
            "top": null,
            "visibility": null,
            "width": null
          }
        },
        "3b49400051234b8bb7af1e8046077342": {
          "model_module": "@jupyter-widgets/controls",
          "model_name": "DescriptionStyleModel",
          "model_module_version": "1.5.0",
          "state": {
            "_model_module": "@jupyter-widgets/controls",
            "_model_module_version": "1.5.0",
            "_model_name": "DescriptionStyleModel",
            "_view_count": null,
            "_view_module": "@jupyter-widgets/base",
            "_view_module_version": "1.2.0",
            "_view_name": "StyleView",
            "description_width": ""
          }
        },
        "057e10e020d248369ecd1f5ce365bae2": {
          "model_module": "@jupyter-widgets/controls",
          "model_name": "ButtonModel",
          "model_module_version": "1.5.0",
          "state": {
            "_dom_classes": [],
            "_model_module": "@jupyter-widgets/controls",
            "_model_module_version": "1.5.0",
            "_model_name": "ButtonModel",
            "_view_count": null,
            "_view_module": "@jupyter-widgets/controls",
            "_view_module_version": "1.5.0",
            "_view_name": "ButtonView",
            "button_style": "",
            "description": "Calcular",
            "disabled": false,
            "icon": "",
            "layout": "IPY_MODEL_86971810d2ed408a9b74a40f1291838f",
            "style": "IPY_MODEL_da37d62a56eb4016b5d870d24e259255",
            "tooltip": ""
          }
        },
        "86971810d2ed408a9b74a40f1291838f": {
          "model_module": "@jupyter-widgets/base",
          "model_name": "LayoutModel",
          "model_module_version": "1.2.0",
          "state": {
            "_model_module": "@jupyter-widgets/base",
            "_model_module_version": "1.2.0",
            "_model_name": "LayoutModel",
            "_view_count": null,
            "_view_module": "@jupyter-widgets/base",
            "_view_module_version": "1.2.0",
            "_view_name": "LayoutView",
            "align_content": null,
            "align_items": null,
            "align_self": null,
            "border": null,
            "bottom": null,
            "display": null,
            "flex": null,
            "flex_flow": null,
            "grid_area": null,
            "grid_auto_columns": null,
            "grid_auto_flow": null,
            "grid_auto_rows": null,
            "grid_column": null,
            "grid_gap": null,
            "grid_row": null,
            "grid_template_areas": null,
            "grid_template_columns": null,
            "grid_template_rows": null,
            "height": null,
            "justify_content": null,
            "justify_items": null,
            "left": null,
            "margin": null,
            "max_height": null,
            "max_width": null,
            "min_height": null,
            "min_width": null,
            "object_fit": null,
            "object_position": null,
            "order": null,
            "overflow": null,
            "overflow_x": null,
            "overflow_y": null,
            "padding": null,
            "right": null,
            "top": null,
            "visibility": null,
            "width": null
          }
        },
        "da37d62a56eb4016b5d870d24e259255": {
          "model_module": "@jupyter-widgets/controls",
          "model_name": "ButtonStyleModel",
          "model_module_version": "1.5.0",
          "state": {
            "_model_module": "@jupyter-widgets/controls",
            "_model_module_version": "1.5.0",
            "_model_name": "ButtonStyleModel",
            "_view_count": null,
            "_view_module": "@jupyter-widgets/base",
            "_view_module_version": "1.2.0",
            "_view_name": "StyleView",
            "button_color": null,
            "font_weight": ""
          }
        }
      }
    }
  },
  "cells": [
    {
      "cell_type": "markdown",
      "metadata": {
        "id": "view-in-github",
        "colab_type": "text"
      },
      "source": [
        "<a href=\"https://colab.research.google.com/github/faiver99/Adivina-el-numero/blob/master/tarea2.ipynb\" target=\"_parent\"><img src=\"https://colab.research.google.com/assets/colab-badge.svg\" alt=\"Open In Colab\"/></a>"
      ]
    },
    {
      "cell_type": "markdown",
      "source": [
        "<div align=\"left\">\n",
        "<p><img alt=\"IUDigital\" height=\"140px\" src=\"https://iudigital.educatic.com.co/cas/images/logos/iudigital/logoLogin.png\" align=\"left\" hspace=\"10px\" vspace=\"0px\"></p></div>\n",
        "<div> </div>\n",
        "<div align=\"right\">\n",
        "<p><img alt=\"Posgrado\" height=\"140px\" src=\"https://www.iudigital.edu.co/images/Oferta%20Educativa/Tecnologia/TDSoftware/Banner%20Tecnologia%20en%20Desarrollode%20Software.png#joomlaImage://local-images/Oferta%20Educativa/Tecnologia/TDSoftware/Banner%20Tecnologia%20en%20Desarrollode%20Software.png\" align=\"right\" hspace=\"10px\" vspace=\"10px\"></p></div>\n",
        "<br></br>\n",
        "<br></br>\n",
        "<br></br>\n",
        "<br></br>\n",
        "<p>\n",
        "<h1> <b> Fundamentos de Programación </b> </h1>\n",
        "<h2> Ingeniería de Software y Datos  </h2>\n",
        "<hr size=10 noshade color=\"red\">\n",
        "</p>\n",
        "\n"
      ],
      "metadata": {
        "id": "VuipZbrNx6G9"
      }
    },
    {
      "cell_type": "markdown",
      "source": [
        "# (25%) Ejercicio 1\n",
        "Vamos a mejorar la solución del Ejercicio 1 - Tarea 1.\n",
        "Realice conversiones entre las unidades de medida presentadas en la siguiente tabla:\n",
        "\n",
        "| Índice | Conversión                           | Factor |\n",
        "|:------:|--------------------------------------|:------:|\n",
        "| 0      | Kilómetro a metro                    | 1000   |\n",
        "| 1      | Centímetro a metro                   | 0.01   |\n",
        "| 2      | Kilómetro por hora a millas por hora | 0.62   |\n",
        "| 3      | Nota en Educatic a nota en Canvas    | 20     |\n",
        "| 4      | Nota en Canvas a nota en Educatic    | 0.05   |\n",
        "| 5      | Mililitro a centímetro cúbico        | 1      |\n",
        "| 6      | Dólar (USA) a peso colombiano        |Actualizar|\n",
        "| 7      | Peso colombiano a dólar (USA)        |Actualizar|\n",
        "| 8      | Libra a kilogramo                    | 0.45   |\n",
        "| 9     | Minuto luz a kilómetro               | 17987539.67|\n",
        "\n",
        "Para este ejercicio se deben almacenar los factores de conversión en un vector (tipo de dato ```list``` de Python) para luego:\n",
        "\n",
        "- Solicitar al usuario que escoja el tipo de conversión que quiere realizar, para esto hay dos opciones:\n",
        " - Si trabajas en Google Colab puedes usar una lista desplegable, que es un tipo de campo de [formulario](https://www.youtube.com/watch?v=vx7yOZ5_Cw8) llamado *dropdown*\n",
        " - Si trabajas en otro editor puedes imprimir un menú de opciones numeradas y solicitarle al usuario que ingrese con ```input```el número de la opción que le interesa.\n",
        "\n",
        "- Solicitar al usuario que ingrese el dato que quiere convertir.\n",
        "- **Realizar una estructura de selección que convierta el dato ingresado por el usuario según el tipo de conversión que ha escogido.**\n",
        "\n",
        "Al igual que en la Tarea 1, se debe acceder al factor de conversión correspondiente de acuerdo a su posición o índice en el vector de factores de conversión.\n"
      ],
      "metadata": {
        "id": "bKdLoL-voFJb"
      }
    },
    {
      "cell_type": "code",
      "source": [
        "# Desarrolle su ejercicio aquí\n"
      ],
      "metadata": {
        "id": "YnQLfMXJXTZy"
      },
      "execution_count": null,
      "outputs": []
    },
    {
      "cell_type": "markdown",
      "source": [
        "# (25%) Ejercicio 2\n",
        "Estudie cómo realizar conversiones entre los sistemas de numeración Hexadecimal, Binario y Decimal.\n",
        "\n",
        "Programe un algoritmo que solicite al usuario un número entre 0 y 15 y entregue el valor correspondiente en los sistemas numéricos Hexadecimal y Binario.\n",
        "\n",
        "**Nota:** No está permitido usar funciones de conversión nativas como ``bin()``, ``hex()``, etc, o funciones similares de librerías."
      ],
      "metadata": {
        "id": "kdwhB6xi8n5I"
      }
    },
    {
      "cell_type": "code",
      "source": [
        "def funtion():\n",
        "  def hexadecimal(decimal):\n",
        "     if decimal < 10:\n",
        "        return str(decimal)\n",
        "     else:\n",
        "      return chr(ord('A') + decimal - 10)\n",
        "\n",
        "  def binario(decimal):\n",
        "       binario = \"\"\n",
        "       for i in range(3, -1, -1):\n",
        "          if decimal >= (2 ** i):\n",
        "              binario += \"1\"\n",
        "              decimal -= (2 ** i)\n",
        "          else:\n",
        "           binario += \"0\"\n",
        "          return binario\n",
        "\n",
        "  decimal_num = int(input(\"Ingrese un numero entre 0 y 15: \"))\n",
        "\n",
        "  if 0 <= decimal_num <= 15:\n",
        "     hexadecimal_num = hexadecimal(decimal_num)\n",
        "     binario_num = binario(decimal_num)\n",
        "\n",
        "     print(\"Hexadecimal:\", hexadecimal_num)\n",
        "     print(\"binario:\", binario_num)\n",
        "  else:\n",
        "     print(\"Numero invalido. Por favor ingrese un numero entre 0 y 15.\")\n",
        "     funtion()\n",
        "funtion()"
      ],
      "metadata": {
        "id": "RHFMmRm_X3sd",
        "colab": {
          "base_uri": "https://localhost:8080/"
        },
        "outputId": "4ce5be58-a084-4790-963c-6146cf715273"
      },
      "execution_count": 11,
      "outputs": [
        {
          "output_type": "stream",
          "name": "stdout",
          "text": [
            "Ingrese un numero entre 0 y 15: 23\n",
            "Numero invalido. Por favor ingrese un numero entre 0 y 15.\n",
            "Ingrese un numero entre 0 y 15: 5\n",
            "Hexadecimal: 5\n",
            "binario: 0\n"
          ]
        }
      ]
    },
    {
      "cell_type": "markdown",
      "source": [
        "# (25%) Ejercicio 3\n",
        "\n",
        "Propiedades de los triángulos.\n",
        "*   Si tenemos tres segmentos de cualquier longitud, no siempre se puede construir un triángulo con ellos. En cualquier triángulo, la suma de dos de sus lados siempre es mayor que el tercer lado.\n",
        "*   La suma de los ángulos de un triángulo es igual a 180°.\n",
        "\n",
        "De acuerdo con la información descrita previamente, y haciendo uso de la función `input` realizar un algoritmo que reciba tres lados y tres ángulos y determine si puede dibujarse un triángulo, en caso contrario indicar qué  problemas presenta.\n",
        "\n"
      ],
      "metadata": {
        "id": "nHnp-5M12S5O"
      }
    },
    {
      "cell_type": "code",
      "source": [
        "lado1= float(input(\"ingrese el primer lado: \"))\n",
        "lado2= float(input(\"ingrese el segundo lado: \"))\n",
        "lado3= float(input(\"ingrese el tercer lado: \"))\n",
        "\n",
        "angulo1= float(input(\"ingrese el primer angulo: \"))\n",
        "angulo2= float(input(\"ingrese el segundo angulo: \"))\n",
        "angulo3= float(input(\"ingrese el tercer angulo: \"))\n",
        "\n",
        "sumlados1 = lado1+lado2\n",
        "sumlados2 = lado2+lado3\n",
        "sumlados3 = lado1+lado3\n",
        "\n",
        "suma1 = angulo1 + angulo2\n",
        "suma2 = angulo2 + angulo3\n",
        "suma3 = angulo1 + angulo3\n",
        "\n",
        "if suma1 <= 180 and suma2 <= 180 and suma3 <= 180:\n",
        "  if sumlados1 > lado3 and sumlados2 > lado1 and sumlados3 > lado2 :\n",
        "         print(\"se puede construir un triangulo\")\n",
        "  else:\n",
        "     print(\"no se puede construir un triangulo, la suma de dos de los lados es menor al tercer lados\")\n",
        "else :\n",
        "  print(\"no se puede construir un triangulo, la suma de los angulos internos es mayor a 180°\")\n",
        "\n"
      ],
      "metadata": {
        "colab": {
          "base_uri": "https://localhost:8080/"
        },
        "id": "ItLwBxgqlLQu",
        "outputId": "95516896-2eb1-4850-8126-a0634dfc252a"
      },
      "execution_count": null,
      "outputs": [
        {
          "output_type": "stream",
          "name": "stdout",
          "text": [
            "ingrese el primer lado: 2\n",
            "ingrese el segundo lado: 2\n",
            "ingrese el tercer lado: 2\n",
            "ingrese el primer angulo: 120\n",
            "ingrese el segundo angulo: 120\n",
            "ingrese el tercer angulo: 30\n",
            "no se puede construir un triangulo, la suma de los angulos internos es mayor a 180°\n"
          ]
        }
      ]
    },
    {
      "cell_type": "markdown",
      "source": [
        "# (25%) Ejercicio 4\n",
        "\n",
        "Al final del bloque completaremos un programa que permita calcular la calificación final de un curso de acuerdo al porcentaje de ponderación y a la calificación obtenida en cada tarea.\n",
        "\n",
        "En este ejercicio debes solicitar al usuario, con la función ```input``` o por medio de formularios, las ponderaciones de cada una de las 4 tareas de un curso. También, debes solicitarle la calificación obtenida y el nombre de cada tarea.\n",
        "\n",
        "Toda la información adquirida debe ser almacenada en un diccionario (revisa los cuadernos de práctica y los módulos de Canvas donde se presenta el concepto). Luego, calcularás la calificación global del curso para finalmente presentar un resumen del desempeño del usuario."
      ],
      "metadata": {
        "id": "O9hQ5pkrz8qy"
      }
    },
    {
      "cell_type": "code",
      "source": [
        "\n",
        "diccionario = {}\n",
        "\n",
        "\n",
        "for i in range(1, 5):\n",
        "  nombre_tarea = input(f\"Ingresa el nombre de la tarea {i}: \")\n",
        "  Peso = float(input(f\"Ingresa el peso de la terea {i} (ej: 0.25 para 25%): \"))\n",
        "  diccionario[nombre_tarea] = {'peso': Peso, 'Nota': 0}\n",
        "\n",
        "\n",
        "for nombre_tarea in diccionario:\n",
        "  Nota = float(input(f\"Ingrese la nota para la tarea {nombre_tarea}: \"))\n",
        "  diccionario[nombre_tarea]['Nota'] = Nota\n",
        "\n",
        "\n",
        "Nota_final = 0\n",
        "for nombre_tarea, datos_tareas in diccionario.items():\n",
        "  Nota_final += datos_tareas['peso'] * datos_tareas['Nota']\n",
        "\n",
        "\n",
        "print(\"\\n Resumen de notas:\")\n",
        "for nombre_tarea, datos_tareas in diccionario.items():\n",
        "  print(f\"{nombre_tarea}: Nota = {datos_tareas['Nota']}, peso = {datos_tareas['peso']}\")\n",
        "print(f\"Nota final: {Nota_final}\")\n"
      ],
      "metadata": {
        "id": "9_r3D3o2YItH",
        "colab": {
          "base_uri": "https://localhost:8080/"
        },
        "outputId": "6eac55c1-5396-4ceb-ed6a-e64af8c3d4e3"
      },
      "execution_count": 7,
      "outputs": [
        {
          "output_type": "stream",
          "name": "stdout",
          "text": [
            "Ingresa el nombre de la tarea 1: hola\n",
            "Ingresa el peso de la terea 1 (ej: 0.25 para 25%): 0.25\n",
            "Ingresa el nombre de la tarea 2: como\n",
            "Ingresa el peso de la terea 2 (ej: 0.25 para 25%): 0.25\n",
            "Ingresa el nombre de la tarea 3: estas\n",
            "Ingresa el peso de la terea 3 (ej: 0.25 para 25%): 0.25\n",
            "Ingresa el nombre de la tarea 4: hoy\n",
            "Ingresa el peso de la terea 4 (ej: 0.25 para 25%): 0.25\n",
            "Ingrese la nota para la tarea hola: 5\n",
            "Ingrese la nota para la tarea como: 5\n",
            "Ingrese la nota para la tarea estas: 5\n",
            "Ingrese la nota para la tarea hoy: 5\n",
            "\n",
            " Resumen de notas:\n",
            "hola: Nota = 5.0, peso = 0.25\n",
            "como: Nota = 5.0, peso = 0.25\n",
            "estas: Nota = 5.0, peso = 0.25\n",
            "hoy: Nota = 5.0, peso = 0.25\n",
            "Nota final: 5.0\n",
            "{'hola': {'peso': 0.25, 'Nota': 5.0}, 'como': {'peso': 0.25, 'Nota': 5.0}, 'estas': {'peso': 0.25, 'Nota': 5.0}, 'hoy': {'peso': 0.25, 'Nota': 5.0}}\n"
          ]
        }
      ]
    },
    {
      "cell_type": "code",
      "source": [
        "import ipywidgets as widgets\n",
        "from IPython.display import display\n",
        "\n",
        "def calcular_nota_final(nombre_tarea1, peso_tarea1, nota_tarea1,\n",
        "                       nombre_tarea2, peso_tarea2, nota_tarea2,\n",
        "                       nombre_tarea3, peso_tarea3, nota_tarea3,\n",
        "                       nombre_tarea4, peso_tarea4, nota_tarea4):\n",
        "\n",
        "    diccionario = {\n",
        "        nombre_tarea1: {'peso': peso_tarea1, 'Nota': nota_tarea1},\n",
        "        nombre_tarea2: {'peso': peso_tarea2, 'Nota': nota_tarea2},\n",
        "        nombre_tarea3: {'peso': peso_tarea3, 'Nota': nota_tarea3},\n",
        "        nombre_tarea4: {'peso': peso_tarea4, 'Nota': nota_tarea4}\n",
        "    }\n",
        "\n",
        "    nota_final = 0\n",
        "    for nombre_tarea, datos_tareas in diccionario.items():\n",
        "        nota_final += datos_tareas['peso'] * datos_tareas['Nota']\n",
        "\n",
        "    print(f\"Nota final: {nota_final}\")\n",
        "\n",
        "\n",
        "nombre_tarea1 = widgets.Text(description=\"Nombre Tarea 1   :\")\n",
        "peso_tarea1 = widgets.FloatText(description=\"Peso Tarea 1   :\")\n",
        "nota_tarea1 = widgets.FloatText(description=\"Nota Tarea 1   :\")\n",
        "\n",
        "nombre_tarea2 = widgets.Text(description=\"Nombre Tarea 2:\")\n",
        "peso_tarea2 = widgets.FloatText(description=\"Peso Tarea 2:\")\n",
        "nota_tarea2 = widgets.FloatText(description=\"Nota Tarea 2:\")\n",
        "\n",
        "nombre_tarea3 = widgets.Text(description=\"Nombre Tarea 3:\")\n",
        "peso_tarea3 = widgets.FloatText(description=\"Peso Tarea 3:\")\n",
        "nota_tarea3 = widgets.FloatText(description=\"Nota Tarea 3:\")\n",
        "\n",
        "nombre_tarea4 = widgets.Text(description=\"Nombre Tarea 4:\")\n",
        "peso_tarea4 = widgets.FloatText(description=\"Peso Tarea 4:\")\n",
        "nota_tarea4 = widgets.FloatText(description=\"Nota Tarea 4:\")\n",
        "\n",
        "\n",
        "calcular_button = widgets.Button(description=\"Calcular\")\n",
        "\n",
        "\n",
        "def on_button_clicked(b):\n",
        "    calcular_nota_final(nombre_tarea1.value, peso_tarea1.value, nota_tarea1.value,\n",
        "                       nombre_tarea2.value, peso_tarea2.value, nota_tarea2.value,\n",
        "                       nombre_tarea3.value, peso_tarea3.value, nota_tarea3.value,\n",
        "                       nombre_tarea4.value, peso_tarea4.value, nota_tarea4.value)\n",
        "\n",
        "calcular_button.on_click(on_button_clicked)\n",
        "\n",
        "display(nombre_tarea1, peso_tarea1, nota_tarea1,\n",
        "        nombre_tarea2, peso_tarea2, nota_tarea2,\n",
        "        nombre_tarea3, peso_tarea3, nota_tarea3,\n",
        "        nombre_tarea4, peso_tarea4, nota_tarea4,\n",
        "        calcular_button)"
      ],
      "metadata": {
        "colab": {
          "base_uri": "https://localhost:8080/",
          "height": 431,
          "referenced_widgets": [
            "3abb3d0494b54f848da904b86bf116e1",
            "0afcc54736744f55ace808b5956bdd2f",
            "34f8c19b3163485ebd87d0f5145015e8",
            "e7632072ab6b49ec9b24ddcb44d4b386",
            "3de54c44c213420e82aefca06f3ecb23",
            "6d4bc5dc75a64addb4a342f855f16b4c",
            "119982ebb1bd4719a2dc32e9277359f8",
            "e220f2f46a414378b7efa68737cce7ac",
            "800329765ceb44118e8baf127b32d7ab",
            "47d5b006c3fe4ad5970ded0c445d4aea",
            "85b86695589640c3b3a9ace450d491db",
            "2a7794cba1784ce09187dbb1794ddebf",
            "350e0320ca3446138c88325b9108c1c2",
            "d87de21c840440388b53f380317bc00e",
            "a2a0491a9d624d88a0b2c28492c15570",
            "5ff3a51b028c4781b4ff64d096ebdca4",
            "6b502a9f6e3e481ab47899ca15897770",
            "3ea7b2ed866f4d7baf05258637bcdd82",
            "3b7e5400fa1846c5bcbc7deba8e986b7",
            "33d6d1fc493e4f23b34eb93414b136a5",
            "0aae13436d3842aba7347125bbd39ff2",
            "dea0875903db47edacb27897385012e4",
            "7099518e500c4d59aeab66880d4c7b92",
            "bd837725eb214e618a98194714547254",
            "747ba52aa60e4d7a8ea1ffc04e2deab6",
            "9496cfa549ac4e8594f72a579aed32ae",
            "3f3853d64b2247ed95dfd9f0b7051062",
            "31f82ac0e8c64638a777e7ed530ec8df",
            "828d1f8b8cfb4fa6aa9fe90256b2b8c7",
            "934b797541f741208bf92eab239d7cb2",
            "3aa0cecb23fd4e939f6bb0eebcab3f24",
            "35a38f74087942ebbb8465d9b73cb1a6",
            "b4c5c8a62cee407db0273a91bb4df77d",
            "3aed120acc984ab297966fcb2f5c1af4",
            "2dd5d9243f7e4b35998639f56a99c42b",
            "3b49400051234b8bb7af1e8046077342",
            "057e10e020d248369ecd1f5ce365bae2",
            "86971810d2ed408a9b74a40f1291838f",
            "da37d62a56eb4016b5d870d24e259255"
          ]
        },
        "id": "ONJykbsCI15A",
        "outputId": "672bdd10-2152-4ad1-ebc1-a85c8ee4f7fe"
      },
      "execution_count": 2,
      "outputs": [
        {
          "output_type": "display_data",
          "data": {
            "text/plain": [
              "Text(value='', description='Nombre Tarea 1   :')"
            ],
            "application/vnd.jupyter.widget-view+json": {
              "version_major": 2,
              "version_minor": 0,
              "model_id": "3abb3d0494b54f848da904b86bf116e1"
            }
          },
          "metadata": {}
        },
        {
          "output_type": "display_data",
          "data": {
            "text/plain": [
              "FloatText(value=0.0, description='Peso Tarea 1   :')"
            ],
            "application/vnd.jupyter.widget-view+json": {
              "version_major": 2,
              "version_minor": 0,
              "model_id": "e7632072ab6b49ec9b24ddcb44d4b386"
            }
          },
          "metadata": {}
        },
        {
          "output_type": "display_data",
          "data": {
            "text/plain": [
              "FloatText(value=0.0, description='Nota Tarea 1   :')"
            ],
            "application/vnd.jupyter.widget-view+json": {
              "version_major": 2,
              "version_minor": 0,
              "model_id": "119982ebb1bd4719a2dc32e9277359f8"
            }
          },
          "metadata": {}
        },
        {
          "output_type": "display_data",
          "data": {
            "text/plain": [
              "Text(value='', description='Nombre Tarea 2:')"
            ],
            "application/vnd.jupyter.widget-view+json": {
              "version_major": 2,
              "version_minor": 0,
              "model_id": "47d5b006c3fe4ad5970ded0c445d4aea"
            }
          },
          "metadata": {}
        },
        {
          "output_type": "display_data",
          "data": {
            "text/plain": [
              "FloatText(value=0.0, description='Peso Tarea 2:')"
            ],
            "application/vnd.jupyter.widget-view+json": {
              "version_major": 2,
              "version_minor": 0,
              "model_id": "350e0320ca3446138c88325b9108c1c2"
            }
          },
          "metadata": {}
        },
        {
          "output_type": "display_data",
          "data": {
            "text/plain": [
              "FloatText(value=0.0, description='Nota Tarea 2:')"
            ],
            "application/vnd.jupyter.widget-view+json": {
              "version_major": 2,
              "version_minor": 0,
              "model_id": "5ff3a51b028c4781b4ff64d096ebdca4"
            }
          },
          "metadata": {}
        },
        {
          "output_type": "display_data",
          "data": {
            "text/plain": [
              "Text(value='', description='Nombre Tarea 3:')"
            ],
            "application/vnd.jupyter.widget-view+json": {
              "version_major": 2,
              "version_minor": 0,
              "model_id": "3b7e5400fa1846c5bcbc7deba8e986b7"
            }
          },
          "metadata": {}
        },
        {
          "output_type": "display_data",
          "data": {
            "text/plain": [
              "FloatText(value=0.0, description='Peso Tarea 3:')"
            ],
            "application/vnd.jupyter.widget-view+json": {
              "version_major": 2,
              "version_minor": 0,
              "model_id": "dea0875903db47edacb27897385012e4"
            }
          },
          "metadata": {}
        },
        {
          "output_type": "display_data",
          "data": {
            "text/plain": [
              "FloatText(value=0.0, description='Nota Tarea 3:')"
            ],
            "application/vnd.jupyter.widget-view+json": {
              "version_major": 2,
              "version_minor": 0,
              "model_id": "747ba52aa60e4d7a8ea1ffc04e2deab6"
            }
          },
          "metadata": {}
        },
        {
          "output_type": "display_data",
          "data": {
            "text/plain": [
              "Text(value='', description='Nombre Tarea 4:')"
            ],
            "application/vnd.jupyter.widget-view+json": {
              "version_major": 2,
              "version_minor": 0,
              "model_id": "31f82ac0e8c64638a777e7ed530ec8df"
            }
          },
          "metadata": {}
        },
        {
          "output_type": "display_data",
          "data": {
            "text/plain": [
              "FloatText(value=0.0, description='Peso Tarea 4:')"
            ],
            "application/vnd.jupyter.widget-view+json": {
              "version_major": 2,
              "version_minor": 0,
              "model_id": "3aa0cecb23fd4e939f6bb0eebcab3f24"
            }
          },
          "metadata": {}
        },
        {
          "output_type": "display_data",
          "data": {
            "text/plain": [
              "FloatText(value=0.0, description='Nota Tarea 4:')"
            ],
            "application/vnd.jupyter.widget-view+json": {
              "version_major": 2,
              "version_minor": 0,
              "model_id": "3aed120acc984ab297966fcb2f5c1af4"
            }
          },
          "metadata": {}
        },
        {
          "output_type": "display_data",
          "data": {
            "text/plain": [
              "Button(description='Calcular', style=ButtonStyle())"
            ],
            "application/vnd.jupyter.widget-view+json": {
              "version_major": 2,
              "version_minor": 0,
              "model_id": "057e10e020d248369ecd1f5ce365bae2"
            }
          },
          "metadata": {}
        },
        {
          "output_type": "stream",
          "name": "stdout",
          "text": [
            "Nota final: 5.0\n"
          ]
        }
      ]
    }
  ]
}