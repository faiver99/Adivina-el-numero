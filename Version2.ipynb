{
  "nbformat": 4,
  "nbformat_minor": 0,
  "metadata": {
    "colab": {
      "provenance": [],
      "include_colab_link": true
    },
    "kernelspec": {
      "name": "python3",
      "display_name": "Python 3"
    },
    "language_info": {
      "name": "python"
    }
  },
  "cells": [
    {
      "cell_type": "markdown",
      "metadata": {
        "id": "view-in-github",
        "colab_type": "text"
      },
      "source": [
        "<a href=\"https://colab.research.google.com/github/faiver99/Adivina-el-numero/blob/master/Version2.ipynb\" target=\"_parent\"><img src=\"https://colab.research.google.com/assets/colab-badge.svg\" alt=\"Open In Colab\"/></a>"
      ]
    },
    {
      "cell_type": "markdown",
      "source": [
        "<div align=\"left\">\n",
        "<p><img alt=\"IUDigital\" height=\"140px\" src=\"https://iudigital.educatic.com.co/cas/images/logos/iudigital/logoLogin.png\" align=\"left\" hspace=\"10px\" vspace=\"0px\"></p></div>\n",
        "<div> </div>\n",
        "<div align=\"right\">\n",
        "<p><img alt=\"Posgrado\" height=\"140px\" src=\"https://www.iudigital.edu.co/images/Oferta%20Educativa/Tecnologia/TDSoftware/Banner%20Tecnologia%20en%20Desarrollode%20Software.png#joomlaImage://local-images/Oferta%20Educativa/Tecnologia/TDSoftware/Banner%20Tecnologia%20en%20Desarrollode%20Software.png\" align=\"right\" hspace=\"10px\" vspace=\"10px\"></p></div>\n",
        "<br></br>\n",
        "<br></br>\n",
        "<br></br>\n",
        "<br></br>\n",
        "<p>\n",
        "<h1> <b> Fundamentos de Programación </b> </h1>\n",
        "<h2> Ingeniería de Software y Datos  </h2>\n",
        "<hr size=10 noshade color=\"red\">\n",
        "</p>\n",
        "\n"
      ],
      "metadata": {
        "id": "VuipZbrNx6G9"
      }
    },
    {
      "cell_type": "markdown",
      "source": [
        "# (25%) Ejercicio 1\n",
        "Vamos a mejorar la solución del Ejercicio 1 - Tarea 1.\n",
        "Realice conversiones entre las unidades de medida presentadas en la siguiente tabla:\n",
        "\n",
        "| Índice | Conversión                           | Factor |\n",
        "|:------:|--------------------------------------|:------:|\n",
        "| 0      | Kilómetro a metro                    | 1000   |\n",
        "| 1      | Centímetro a metro                   | 0.01   |\n",
        "| 2      | Kilómetro por hora a millas por hora | 0.62   |\n",
        "| 3      | Nota en Educatic a nota en Canvas    | 20     |\n",
        "| 4      | Nota en Canvas a nota en Educatic    | 0.05   |\n",
        "| 5      | Mililitro a centímetro cúbico        | 1      |\n",
        "| 6      | Dólar (USA) a peso colombiano        |Actualizar|\n",
        "| 7      | Peso colombiano a dólar (USA)        |Actualizar|\n",
        "| 8      | Libra a kilogramo                    | 0.45   |\n",
        "| 9     | Minuto luz a kilómetro               | 17987539.67|\n",
        "\n",
        "Para este ejercicio se deben almacenar los factores de conversión en un vector (tipo de dato ```list``` de Python) para luego:\n",
        "\n",
        "- Solicitar al usuario que escoja el tipo de conversión que quiere realizar, para esto hay dos opciones:\n",
        " - Si trabajas en Google Colab puedes usar una lista desplegable, que es un tipo de campo de [formulario](https://www.youtube.com/watch?v=vx7yOZ5_Cw8) llamado *dropdown*\n",
        " - Si trabajas en otro editor puedes imprimir un menú de opciones numeradas y solicitarle al usuario que ingrese con ```input```el número de la opción que le interesa.\n",
        "\n",
        "- Solicitar al usuario que ingrese el dato que quiere convertir.\n",
        "- **Realizar una estructura de selección que convierta el dato ingresado por el usuario según el tipo de conversión que ha escogido.**\n",
        "\n",
        "Al igual que en la Tarea 1, se debe acceder al factor de conversión correspondiente de acuerdo a su posición o índice en el vector de factores de conversión.\n"
      ],
      "metadata": {
        "id": "bKdLoL-voFJb"
      }
    },
    {
      "cell_type": "code",
      "source": [
        "# Desarrolle su ejercicio aquí\n"
      ],
      "metadata": {
        "id": "YnQLfMXJXTZy"
      },
      "execution_count": null,
      "outputs": []
    },
    {
      "cell_type": "markdown",
      "source": [
        "# (25%) Ejercicio 2\n",
        "Estudie cómo realizar conversiones entre los sistemas de numeración Hexadecimal, Binario y Decimal.\n",
        "\n",
        "Programe un algoritmo que solicite al usuario un número entre 0 y 15 y entregue el valor correspondiente en los sistemas numéricos Hexadecimal y Binario.\n",
        "\n",
        "**Nota:** No está permitido usar funciones de conversión nativas como ``bin()``, ``hex()``, etc, o funciones similares de librerías."
      ],
      "metadata": {
        "id": "kdwhB6xi8n5I"
      }
    },
    {
      "cell_type": "code",
      "source": [
        "def to_hex(decimal):\n",
        "  if decimal < 10:\n",
        "    return str(decimal)\n",
        "  else:\n",
        "    return chr(ord('A') + decimal - 10)\n",
        "\n",
        "def to_binary(decimal):\n",
        "  binary = \"\"\n",
        "  for i in range(3, -1, -1):\n",
        "    if decimal >= (2 ** i):\n",
        "      binary += \"1\"\n",
        "      decimal -= (2 ** i)\n",
        "    else:\n",
        "      binary += \"0\"\n",
        "  return binary\n",
        "\n",
        "decimal_num = int(input(\"Enter a decimal number between 0 and 15: \"))\n",
        "\n",
        "if 0 <= decimal_num <= 15:\n",
        "  hexadecimal_num = to_hex(decimal_num)\n",
        "  binary_num = to_binary(decimal_num)\n",
        "\n",
        "  print(\"Hexadecimal:\", hexadecimal_num)\n",
        "  print(\"Binary:\", binary_num)\n",
        "else:\n",
        "  print(\"Invalid input. Please enter a number between 0 and 15.\")\n"
      ],
      "metadata": {
        "id": "RHFMmRm_X3sd",
        "colab": {
          "base_uri": "https://localhost:8080/"
        },
        "outputId": "2bb0f257-b0f1-43c7-b2a3-9bada9d31d80"
      },
      "execution_count": null,
      "outputs": [
        {
          "output_type": "stream",
          "name": "stdout",
          "text": [
            "Enter a decimal number between 0 and 15: 9\n",
            "Hexadecimal: 9\n",
            "Binary: 1001\n"
          ]
        }
      ]
    },
    {
      "cell_type": "markdown",
      "source": [
        "# (25%) Ejercicio 3\n",
        "\n",
        "Propiedades de los triángulos.\n",
        "*   Si tenemos tres segmentos de cualquier longitud, no siempre se puede construir un triángulo con ellos. En cualquier triángulo, la suma de dos de sus lados siempre es mayor que el tercer lado.\n",
        "*   La suma de los ángulos de un triángulo es igual a 180°.\n",
        "\n",
        "De acuerdo con la información descrita previamente, y haciendo uso de la función `input` realizar un algoritmo que reciba tres lados y tres ángulos y determine si puede dibujarse un triángulo, en caso contrario indicar qué  problemas presenta.\n",
        "\n"
      ],
      "metadata": {
        "id": "nHnp-5M12S5O"
      }
    },
    {
      "cell_type": "code",
      "source": [
        "lado1= float(input(\"ingrese el primer lado: \"))\n",
        "lado2= float(input(\"ingrese el segundo lado: \"))\n",
        "lado3= float(input(\"ingrese el tercer lado: \"))\n",
        "\n",
        "angulo1= float(input(\"ingrese el primer angulo: \"))\n",
        "angulo2= float(input(\"ingrese el segundo angulo: \"))\n",
        "angulo3= float(input(\"ingrese el tercer angulo: \"))\n",
        "\n",
        "sumlados1 = lado1+lado2\n",
        "sumlados2 = lado2+lado3\n",
        "sumlados3 = lado1+lado3\n",
        "\n",
        "suma1 = angulo1 + angulo2\n",
        "suma2 = angulo2 + angulo3\n",
        "suma3 = angulo1 + angulo3\n",
        "\n",
        "if suma1 <= 180 and suma2 <= 180 and suma3 <= 180:\n",
        "  if sumlados1 > lado3 and sumlados2 > lado1 and sumlados3 > lado2 :\n",
        "         print(\"se puede construir un triangulo\")\n",
        "  else:\n",
        "     print(\"no se puede construir un triangulo, la suma de dos de los lados es menor al tercer lados\")\n",
        "else :\n",
        "  print(\"no se puede construir un triangulo, la suma de los angulos internos es mayor a 180°\")\n",
        "\n"
      ],
      "metadata": {
        "colab": {
          "base_uri": "https://localhost:8080/"
        },
        "id": "ItLwBxgqlLQu",
        "outputId": "95516896-2eb1-4850-8126-a0634dfc252a"
      },
      "execution_count": null,
      "outputs": [
        {
          "output_type": "stream",
          "name": "stdout",
          "text": [
            "ingrese el primer lado: 2\n",
            "ingrese el segundo lado: 2\n",
            "ingrese el tercer lado: 2\n",
            "ingrese el primer angulo: 120\n",
            "ingrese el segundo angulo: 120\n",
            "ingrese el tercer angulo: 30\n",
            "no se puede construir un triangulo, la suma de los angulos internos es mayor a 180°\n"
          ]
        }
      ]
    },
    {
      "cell_type": "markdown",
      "source": [
        "# (25%) Ejercicio 4\n",
        "\n",
        "Al final del bloque completaremos un programa que permita calcular la calificación final de un curso de acuerdo al porcentaje de ponderación y a la calificación obtenida en cada tarea.\n",
        "\n",
        "En este ejercicio debes solicitar al usuario, con la función ```input``` o por medio de formularios, las ponderaciones de cada una de las 4 tareas de un curso. También, debes solicitarle la calificación obtenida y el nombre de cada tarea.\n",
        "\n",
        "Toda la información adquirida debe ser almacenada en un diccionario (revisa los cuadernos de práctica y los módulos de Canvas donde se presenta el concepto). Luego, calcularás la calificación global del curso para finalmente presentar un resumen del desempeño del usuario."
      ],
      "metadata": {
        "id": "O9hQ5pkrz8qy"
      }
    },
    {
      "cell_type": "code",
      "source": [
        "\n",
        "diccionario = {}\n",
        "\n",
        "\n",
        "for i in range(1, 5):\n",
        "  nombre_tarea = input(f\"Ingresa el nombre de la tarea {i}: \")\n",
        "  Peso = float(input(f\"Ingresa el peso de la terea {i} (ej: 0.25 para 25%): \"))\n",
        "  diccionario[nombre_tarea] = {'peso': Peso, 'Nota': 0}\n",
        "\n",
        "\n",
        "for nombre_tarea in diccionario:\n",
        "  Nota = float(input(f\"Ingrese la nota para la tarea {nombre_tarea}: \"))\n",
        "  diccionario[nombre_tarea]['Nota'] = Nota\n",
        "\n",
        "\n",
        "Nota_final = 0\n",
        "for nombre_tarea, datos_tareas in diccionario.items():\n",
        "  Nota_final += datos_tareas['peso'] * datos_tareas['Nota']\n",
        "\n",
        "\n",
        "print(\"\\n Resumen de notas:\")\n",
        "for nombre_tarea, datos_tareas in diccionario.items():\n",
        "  print(f\"{nombre_tarea}: Nota = {datos_tareas['Nota']}, peso = {datos_tareas['peso']}\")\n",
        "print(f\"Nota final: {Nota_final}\")\n"
      ],
      "metadata": {
        "id": "9_r3D3o2YItH",
        "colab": {
          "base_uri": "https://localhost:8080/"
        },
        "outputId": "6eac55c1-5396-4ceb-ed6a-e64af8c3d4e3"
      },
      "execution_count": 7,
      "outputs": [
        {
          "output_type": "stream",
          "name": "stdout",
          "text": [
            "Ingresa el nombre de la tarea 1: hola\n",
            "Ingresa el peso de la terea 1 (ej: 0.25 para 25%): 0.25\n",
            "Ingresa el nombre de la tarea 2: como\n",
            "Ingresa el peso de la terea 2 (ej: 0.25 para 25%): 0.25\n",
            "Ingresa el nombre de la tarea 3: estas\n",
            "Ingresa el peso de la terea 3 (ej: 0.25 para 25%): 0.25\n",
            "Ingresa el nombre de la tarea 4: hoy\n",
            "Ingresa el peso de la terea 4 (ej: 0.25 para 25%): 0.25\n",
            "Ingrese la nota para la tarea hola: 5\n",
            "Ingrese la nota para la tarea como: 5\n",
            "Ingrese la nota para la tarea estas: 5\n",
            "Ingrese la nota para la tarea hoy: 5\n",
            "\n",
            " Resumen de notas:\n",
            "hola: Nota = 5.0, peso = 0.25\n",
            "como: Nota = 5.0, peso = 0.25\n",
            "estas: Nota = 5.0, peso = 0.25\n",
            "hoy: Nota = 5.0, peso = 0.25\n",
            "Nota final: 5.0\n",
            "{'hola': {'peso': 0.25, 'Nota': 5.0}, 'como': {'peso': 0.25, 'Nota': 5.0}, 'estas': {'peso': 0.25, 'Nota': 5.0}, 'hoy': {'peso': 0.25, 'Nota': 5.0}}\n"
          ]
        }
      ]
    },
    {
      "cell_type": "code",
      "source": [
        "import tkinter as tk\n",
        "from tkinter import ttk\n",
        "\n",
        "def calcular_nota_final():\n",
        "    diccionario = {}\n",
        "    for i in range(4):\n",
        "        nombre_tarea = entries_nombre[i].get()\n",
        "        peso = float(entries_peso[i].get())\n",
        "        diccionario[nombre_tarea] = {'peso': peso, 'Nota': 0}\n",
        "\n",
        "    for i, nombre_tarea in enumerate(diccionario):\n",
        "        nota = float(entries_nota[i].get())\n",
        "        diccionario[nombre_tarea]['Nota'] = nota\n",
        "\n",
        "    nota_final = 0\n",
        "    for nombre_tarea, datos_tareas in diccionario.items():\n",
        "        nota_final += datos_tareas['peso'] * datos_tareas['Nota']\n",
        "\n",
        "    resultado_label.config(text=f\"Nota final: {nota_final}\")\n",
        "\n",
        "ventana = tk.Tk()\n",
        "ventana.title(\"Calculadora de Notas\")\n",
        "\n",
        "labels_nombre = []\n",
        "entries_nombre = []\n",
        "labels_peso = []\n",
        "entries_peso = []\n",
        "labels_nota = []\n",
        "entries_nota = []\n",
        "\n",
        "for i in range(4):\n",
        "    labels_nombre.append(tk.Label(ventana, text=f\"Nombre de la tarea {i + 1}:\"))\n",
        "    labels_nombre[i].grid(row=i, column=0, padx=5, pady=5)\n",
        "    entries_nombre.append(tk.Entry(ventana))\n",
        "    entries_nombre[i].grid(row=i, column=1, padx=5, pady=5)\n",
        "\n",
        "    labels_peso.append(tk.Label(ventana, text=f\"Peso de la tarea {i + 1}:\"))\n",
        "    labels_peso[i].grid(row=i, column=2, padx=5, pady=5)\n",
        "    entries_peso.append(tk.Entry(ventana))\n",
        "    entries_peso[i].grid(row=i, column=3, padx=5, pady=5)\n",
        "\n",
        "    labels_nota.append(tk.Label(ventana, text=f\"Nota de la tarea {i + 1}:\"))\n",
        "    labels_nota[i].grid(row=i, column=4, padx=5, pady=5)\n",
        "    entries_nota.append(tk.Entry(ventana))\n",
        "    entries_nota[i].grid(row=i, column=5, padx=5, pady=5)\n",
        "\n",
        "calcular_button = ttk.Button(ventana, text=\"Calcular\", command=calcular_nota_final)\n",
        "calcular_button.grid(row=4, column=2, columnspan=2, pady=10)\n",
        "\n",
        "resultado_label = tk.Label(ventana, text=\"\")\n",
        "resultado_label.grid(row=5, column=2, columnspan=2, pady=10)\n",
        "\n",
        "ventana.mainloop()"
      ],
      "metadata": {
        "id": "ONJykbsCI15A",
        "outputId": "3755f0ea-035b-4ec3-fc06-55c151cafce3",
        "colab": {
          "base_uri": "https://localhost:8080/",
          "height": 332
        }
      },
      "execution_count": 8,
      "outputs": [
        {
          "output_type": "error",
          "ename": "TclError",
          "evalue": "no display name and no $DISPLAY environment variable",
          "traceback": [
            "\u001b[0;31m---------------------------------------------------------------------------\u001b[0m",
            "\u001b[0;31mTclError\u001b[0m                                  Traceback (most recent call last)",
            "\u001b[0;32m<ipython-input-8-9eae7cc7cf35>\u001b[0m in \u001b[0;36m<cell line: 21>\u001b[0;34m()\u001b[0m\n\u001b[1;32m     19\u001b[0m     \u001b[0mresultado_label\u001b[0m\u001b[0;34m.\u001b[0m\u001b[0mconfig\u001b[0m\u001b[0;34m(\u001b[0m\u001b[0mtext\u001b[0m\u001b[0;34m=\u001b[0m\u001b[0;34mf\"Nota final: {nota_final}\"\u001b[0m\u001b[0;34m)\u001b[0m\u001b[0;34m\u001b[0m\u001b[0;34m\u001b[0m\u001b[0m\n\u001b[1;32m     20\u001b[0m \u001b[0;34m\u001b[0m\u001b[0m\n\u001b[0;32m---> 21\u001b[0;31m \u001b[0mventana\u001b[0m \u001b[0;34m=\u001b[0m \u001b[0mtk\u001b[0m\u001b[0;34m.\u001b[0m\u001b[0mTk\u001b[0m\u001b[0;34m(\u001b[0m\u001b[0;34m)\u001b[0m\u001b[0;34m\u001b[0m\u001b[0;34m\u001b[0m\u001b[0m\n\u001b[0m\u001b[1;32m     22\u001b[0m \u001b[0mventana\u001b[0m\u001b[0;34m.\u001b[0m\u001b[0mtitle\u001b[0m\u001b[0;34m(\u001b[0m\u001b[0;34m\"Calculadora de Notas\"\u001b[0m\u001b[0;34m)\u001b[0m\u001b[0;34m\u001b[0m\u001b[0;34m\u001b[0m\u001b[0m\n\u001b[1;32m     23\u001b[0m \u001b[0;34m\u001b[0m\u001b[0m\n",
            "\u001b[0;32m/usr/lib/python3.10/tkinter/__init__.py\u001b[0m in \u001b[0;36m__init__\u001b[0;34m(self, screenName, baseName, className, useTk, sync, use)\u001b[0m\n\u001b[1;32m   2297\u001b[0m                 \u001b[0mbaseName\u001b[0m \u001b[0;34m=\u001b[0m \u001b[0mbaseName\u001b[0m \u001b[0;34m+\u001b[0m \u001b[0mext\u001b[0m\u001b[0;34m\u001b[0m\u001b[0;34m\u001b[0m\u001b[0m\n\u001b[1;32m   2298\u001b[0m         \u001b[0minteractive\u001b[0m \u001b[0;34m=\u001b[0m \u001b[0;32mFalse\u001b[0m\u001b[0;34m\u001b[0m\u001b[0;34m\u001b[0m\u001b[0m\n\u001b[0;32m-> 2299\u001b[0;31m         \u001b[0mself\u001b[0m\u001b[0;34m.\u001b[0m\u001b[0mtk\u001b[0m \u001b[0;34m=\u001b[0m \u001b[0m_tkinter\u001b[0m\u001b[0;34m.\u001b[0m\u001b[0mcreate\u001b[0m\u001b[0;34m(\u001b[0m\u001b[0mscreenName\u001b[0m\u001b[0;34m,\u001b[0m \u001b[0mbaseName\u001b[0m\u001b[0;34m,\u001b[0m \u001b[0mclassName\u001b[0m\u001b[0;34m,\u001b[0m \u001b[0minteractive\u001b[0m\u001b[0;34m,\u001b[0m \u001b[0mwantobjects\u001b[0m\u001b[0;34m,\u001b[0m \u001b[0museTk\u001b[0m\u001b[0;34m,\u001b[0m \u001b[0msync\u001b[0m\u001b[0;34m,\u001b[0m \u001b[0muse\u001b[0m\u001b[0;34m)\u001b[0m\u001b[0;34m\u001b[0m\u001b[0;34m\u001b[0m\u001b[0m\n\u001b[0m\u001b[1;32m   2300\u001b[0m         \u001b[0;32mif\u001b[0m \u001b[0museTk\u001b[0m\u001b[0;34m:\u001b[0m\u001b[0;34m\u001b[0m\u001b[0;34m\u001b[0m\u001b[0m\n\u001b[1;32m   2301\u001b[0m             \u001b[0mself\u001b[0m\u001b[0;34m.\u001b[0m\u001b[0m_loadtk\u001b[0m\u001b[0;34m(\u001b[0m\u001b[0;34m)\u001b[0m\u001b[0;34m\u001b[0m\u001b[0;34m\u001b[0m\u001b[0m\n",
            "\u001b[0;31mTclError\u001b[0m: no display name and no $DISPLAY environment variable"
          ]
        }
      ]
    }
  ]
}