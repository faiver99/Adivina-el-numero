{
  "nbformat": 4,
  "nbformat_minor": 0,
  "metadata": {
    "colab": {
      "provenance": [],
      "include_colab_link": true
    },
    "kernelspec": {
      "name": "python3",
      "display_name": "Python 3"
    },
    "language_info": {
      "name": "python"
    }
  },
  "cells": [
    {
      "cell_type": "markdown",
      "metadata": {
        "id": "view-in-github",
        "colab_type": "text"
      },
      "source": [
        "<a href=\"https://colab.research.google.com/github/faiver99/Adivina-el-numero/blob/master/Tarea3.ipynb\" target=\"_parent\"><img src=\"https://colab.research.google.com/assets/colab-badge.svg\" alt=\"Open In Colab\"/></a>"
      ]
    },
    {
      "cell_type": "markdown",
      "source": [
        "<div align=\"left\">\n",
        "<p><img alt=\"IUDigital\" height=\"140px\" src=\"https://iudigital.educatic.com.co/cas/images/logos/iudigital/logoLogin.png\" align=\"left\" hspace=\"10px\" vspace=\"0px\"></p></div>\n",
        "<div> </div>\n",
        "<div align=\"right\">\n",
        "<p><img alt=\"Posgrado\" height=\"140px\" src=\"https://www.iudigital.edu.co/images/Oferta%20Educativa/Tecnologia/TDSoftware/Banner%20Tecnologia%20en%20Desarrollode%20Software.png#joomlaImage://local-images/Oferta%20Educativa/Tecnologia/TDSoftware/Banner%20Tecnologia%20en%20Desarrollode%20Software.png\" align=\"right\" hspace=\"10px\" vspace=\"10px\"></p></div>\n",
        "<br></br>\n",
        "<br></br>\n",
        "<br></br>\n",
        "<br></br>\n",
        "<p>\n",
        "<h1> <b> Fundamentos de Programación </b> </h1>\n",
        "<h2> Ingeniería de Software y Datos  </h2>\n",
        "<hr size=10 noshade color=\"red\">\n",
        "</p>\n",
        "\n"
      ],
      "metadata": {
        "id": "VuipZbrNx6G9"
      }
    },
    {
      "cell_type": "markdown",
      "metadata": {
        "id": "Pm5smIuSNTUw"
      },
      "source": [
        "# **Tarea 3**\n",
        "> ## Ciclos (estructuras repetitivas) y colecciones de Python.\n",
        "\n",
        "\n",
        "Al inicio de cada ejercicio se encuentra el porcentaje de ponderación con el cual se calculará la nota final de esta tarea.\n"
      ]
    },
    {
      "cell_type": "markdown",
      "source": [
        "# (25%) Ejercicio 1\n",
        "**Vamos a mejorar la solución del Ejercicio 1 - Tareas 1 y 2.**\n",
        "\n",
        "Realice conversiones entre las unidades de medida presentadas en la siguiente tabla:\n",
        "\n",
        "| Índice | Conversión                           | Factor |\n",
        "|:------:|--------------------------------------|:------:|\n",
        "| 0      | Kilómetro a metro                    | 1000   |\n",
        "| 1      | Centímetro a metro                   | 0.01   |\n",
        "| 2      | Kilómetro por hora a millas por hora | 0.62   |\n",
        "| 3      | Nota en Educatic a nota en Canvas    | 20     |\n",
        "| 4      | Nota en Canvas a nota en Educatic    | 0.05   |\n",
        "| 5      | Mililitro a centímetro cúbico        | 1      |\n",
        "| 6      | Dólar (USA) a peso colombiano        |Actualizar|\n",
        "| 7      | Peso colombiano a dólar (USA)        |Actualizar|\n",
        "| 8      | Libra a kilogramo                    | 0.45   |\n",
        "| 9     | Minuto luz a kilómetro               | 17987539.67|\n",
        "\n",
        "Para este ejercicio se deben almacenar los factores de conversión en un vector (tipo de dato ```list``` de Python) para luego:\n",
        "\n",
        "- Solicitar al usuario que escoja el tipo de conversión que quiere realizar. **Para esta nueva versión de algoritmo se sugiere hacer esta solicitud únicamente con ``input`` y no con formularios de Colab**\n",
        "- Solicitar al usuario que ingrese por **``input``** el dato que quiere convertir.\n",
        "- Realizar una estructura de selección que convierta el dato ingresado por el usuario según el tipo de conversión que ha escogido.\n",
        "\n",
        "Al igual que en las Tareas 1 y 2, se debe acceder al factor de conversión correspondiente de acuerdo a su posición o índice en el vector de factores de conversión.\n",
        "\n",
        "**Nota:** este nuevo algoritmo debe presentar al usuario la opción de continuar realizando conversiones hasta que decida terminar, para lo cual debes agregar un ciclo al código.\n"
      ],
      "metadata": {
        "id": "bKdLoL-voFJb"
      }
    },
    {
      "cell_type": "code",
      "source": [
        "import math\n",
        "import numpy\n",
        "a=True\n",
        "while a==True:\n",
        "          print(\" 0. Kilómetro a metro,\\n 1. Centímetro metro,\\n 2. Kilómetro por hora a millas por hora,\\n 3. Nota en Educatic a nota en Canvas \\n\",\n",
        "          \"4. Nota en Canvas a nota en Educatic,\\n 5. Mililitro a centímetro cúbico, \\n 6. Dólar (USA) a peso colombiano \\n 7. Peso colombiano a dólar (USA),\\n 8. Libra a kilogramo,\\n 9. Minuto luz a kilómetro \\n\")\n",
        "\n",
        "\n",
        "\n",
        "          factores = [1000, 0.01, 0.62, 20, 0.05, 1, 4200, 4200, 0.45, 17987539.67]\n",
        "\n",
        "\n",
        "          Factor = int(input(\" Ingrese el índice del factor al que desea convertir (0-9): \"))\n",
        "\n",
        "\n",
        "          if 0 <= Factor < len(factores):\n",
        "\n",
        "\n",
        "\n",
        "\n",
        "\n",
        "              unidad = [\" metros\", \" metros\", \" millas por hora\", \" nota en canvas\", \" nota en educatic\", \" centimetro cubico\", \" peso colombiano\",\" dolar\", \" kilometro\", \" kilometro\"]\n",
        "              unidad2 = [\" kilometro\", \" centimetros\", \" kilometros por hora\", \" nota en educatic\", \" nota en canvas\", \" milimetro\", \" dolares\",\" pesos\", \" libras\", \" minutos luz\"]\n",
        "              kill = unidad[Factor]\n",
        "              dead = unidad2[Factor]\n",
        "              ValorConvertir = float(input(f\" Ingresa el valor que desea convertir de {dead} a {kill}: \"))\n",
        "              ValorConvertido = ValorConvertir * factores[Factor]\n",
        "\n",
        "              print(f\"{ValorConvertir} {dead} equivalen a {ValorConvertido} {kill}\")\n",
        "\n",
        "          else:\n",
        "              print(\" Índice no válido. Por favor, elija un índice entre 0 y 9.\")\n",
        "          seguir=input(f\"Desea realizar otra conversion presione s(si) o n(no): \")\n",
        "          if seguir==\"s\":\n",
        "            a=True\n",
        "          else:\n",
        "            a=False"
      ],
      "metadata": {
        "id": "PYzaG62mE36z",
        "colab": {
          "base_uri": "https://localhost:8080/"
        },
        "outputId": "f9f9cd46-c8e7-42af-a0df-ae742e28a15d"
      },
      "execution_count": 4,
      "outputs": [
        {
          "name": "stdout",
          "output_type": "stream",
          "text": [
            " 0. Kilómetro a metro,\n",
            " 1. Centímetro metro,\n",
            " 2. Kilómetro por hora a millas por hora,\n",
            " 3. Nota en Educatic a nota en Canvas \n",
            " 4. Nota en Canvas a nota en Educatic,\n",
            " 5. Mililitro a centímetro cúbico, \n",
            " 6. Dólar (USA) a peso colombiano \n",
            " 7. Peso colombiano a dólar (USA),\n",
            " 8. Libra a kilogramo,\n",
            " 9. Minuto luz a kilómetro \n",
            "\n",
            " Ingrese el índice del factor al que desea convertir (0-9): 0\n",
            " Ingresa el valor que desea convertir de  kilometro a  metros: 1\n",
            "1.0  kilometro equivalen a 1000.0  metros\n",
            "Desea realizar otra conversion presione s(si) o n(no): n\n"
          ]
        }
      ]
    },
    {
      "cell_type": "markdown",
      "source": [
        "# (25%) Ejercicio 2\n",
        "**Vamos a mejorar la solución del Ejercicio 2 - Tarea 2.**\n",
        "\n",
        "Estudie cómo realizar conversiones entre los sistemas de numeración Hexadecimal, Binario y Decimal. Se sugiere leer el documento *Sistemas de numeración* disponible en el Material complementario del curso.\n",
        "\n",
        "Programe un algoritmo que solicite al usuario la conversión que desea realizar, que puede ser:\n",
        "* de Binario a Decimal\n",
        "* de Hexadecimal a Decimal\n",
        "* de Decimal a Binario\n",
        "* de Decimal a Hexadecimal\n",
        "* de Binario a Hexadecimal\n",
        "* de Hexadecimal a Binario\n",
        "\n",
        "Solicite también la cantidad a convertir.\n",
        "\n",
        "Finalmente, con estructuras de selección y **estructuras repetitivas** aplique el algoritmo necesario para la conversión deseada y presente al usuario la respuesta.\n",
        "\n",
        "**Nota:** Con el objetivo de practicar los ciclos, no está permitido usar funciones de conversión nativas como ``bin()``, ``hex()``, ``format()``, etc, o funciones similares de librerías."
      ],
      "metadata": {
        "id": "kdwhB6xi8n5I"
      }
    },
    {
      "cell_type": "code",
      "source": [
        "def binario_a_decimal(binario):\n",
        "    decimal = 0\n",
        "    potencia = 0\n",
        "    for digito in binario[::-1]:\n",
        "        decimal += int(digito) * (2 ** potencia)\n",
        "        potencia += 1\n",
        "    return decimal\n",
        "\n",
        "def hexadecimal_a_decimal(hexadecimal):\n",
        "    hex_digitos = \"0123456789ABCDEF\"\n",
        "    decimal = 0\n",
        "    potencia = 0\n",
        "    for digito in hexadecimal[::-1]:\n",
        "        decimal += hex_digitos.index(digito.upper()) * (16 ** potencia)\n",
        "        potencia += 1\n",
        "    return decimal\n",
        "\n",
        "def decimal_a_binario(decimal):\n",
        "    binario = \"\"\n",
        "    if decimal == 0:\n",
        "        return \"0\"\n",
        "    while decimal > 0:\n",
        "        residuo = decimal % 2\n",
        "        binario = str(residuo) + binario\n",
        "        decimal //= 2\n",
        "    return binario\n",
        "\n",
        "def decimal_a_hexadecimal(decimal):\n",
        "    hex_digitos = \"0123456789ABCDEF\"\n",
        "    hexadecimal = \"\"\n",
        "    if decimal == 0:\n",
        "        return \"0\"\n",
        "    while decimal > 0:\n",
        "        residuo = decimal % 16\n",
        "        hexadecimal = hex_digitos[residuo] + hexadecimal\n",
        "        decimal //= 16\n",
        "    return hexadecimal\n",
        "\n",
        "def binario_a_hexadecimal(binario):\n",
        "    decimal = binario_a_decimal(binario)\n",
        "    return decimal_a_hexadecimal(decimal)\n",
        "\n",
        "def hexadecimal_a_binario(hexadecimal):\n",
        "    decimal = hexadecimal_a_decimal(hexadecimal)\n",
        "    return decimal_a_binario(decimal)\n",
        "while a==True:\n",
        "          def main():\n",
        "              print(\"Seleccione la conversión que desea realizar:\")\n",
        "              print(\"1. De Binario a Decimal\")\n",
        "              print(\"2. De Hexadecimal a Decimal\")\n",
        "              print(\"3. De Decimal a Binario\")\n",
        "              print(\"4. De Decimal a Hexadecimal\")\n",
        "              print(\"5. De Binario a Hexadecimal\")\n",
        "              print(\"6. De Hexadecimal a Binario\")\n",
        "\n",
        "              opcion = input(\"Ingrese el número de la opción deseada: \")\n",
        "\n",
        "              if opcion == \"1\":\n",
        "                  binario = input(\"Ingrese el número en binario: \")\n",
        "                  if all(digito in \"01\" for digito in binario):\n",
        "                      print(f\"Resultado en decimal: {binario_a_decimal(binario)}\")\n",
        "                  else:\n",
        "                      print(\"El número ingresado no es un binario válido.\")\n",
        "              elif opcion == \"2\":\n",
        "                  hexadecimal = input(\"Ingrese el número en hexadecimal: \")\n",
        "                  if all(digito.upper() in \"0123456789ABCDEF\" for digito in hexadecimal):\n",
        "                      print(f\"Resultado en decimal: {hexadecimal_a_decimal(hexadecimal)}\")\n",
        "                  else:\n",
        "                      print(\"El número ingresado no es un hexadecimal válido.\")\n",
        "              elif opcion == \"3\":\n",
        "                  decimal = int(input(\"Ingrese el número en decimal: \"))\n",
        "                  print(f\"Resultado en binario: {decimal_a_binario(decimal)}\")\n",
        "              elif opcion == \"4\":\n",
        "                  decimal = int(input(\"Ingrese el número en decimal: \"))\n",
        "                  print(f\"Resultado en hexadecimal: {decimal_a_hexadecimal(decimal)}\")\n",
        "              elif opcion == \"5\":\n",
        "                  binario = input(\"Ingrese el número en binario: \")\n",
        "                  if all(digito in \"01\" for digito in binario):\n",
        "                      print(f\"Resultado en hexadecimal: {binario_a_hexadecimal(binario)}\")\n",
        "                  else:\n",
        "                      print(\"El número ingresado no es un binario válido.\")\n",
        "              elif opcion == \"6\":\n",
        "                  hexadecimal = input(\"Ingrese el número en hexadecimal: \")\n",
        "                  if all(digito.upper() in \"0123456789ABCDEF\" for digito in hexadecimal):\n",
        "                      print(f\"Resultado en binario: {hexadecimal_a_binario(hexadecimal)}\")\n",
        "                  else:\n",
        "                      print(\"El número ingresado no es un hexadecimal válido.\")\n",
        "              else:\n",
        "                  print(\"Opción no válida.\")\n",
        "\n",
        "if __name__ == \"__main__\":\n",
        "              main()\n",
        "seguir=input(f\"Desea realizar otra conversion presione s(si) o n(no): \")\n",
        "if seguir==\"s\" or seguir==\"si\":\n",
        "  a=True\n",
        "else:\n",
        "  a=False"
      ],
      "metadata": {
        "id": "krFiW8bPmoUP",
        "colab": {
          "base_uri": "https://localhost:8080/",
          "height": 211
        },
        "outputId": "64ea8355-07c7-4b9e-9d19-324ec1b388bc"
      },
      "execution_count": 20,
      "outputs": [
        {
          "output_type": "error",
          "ename": "KeyboardInterrupt",
          "evalue": "",
          "traceback": [
            "\u001b[0;31m---------------------------------------------------------------------------\u001b[0m",
            "\u001b[0;31mKeyboardInterrupt\u001b[0m                         Traceback (most recent call last)",
            "\u001b[0;32m<ipython-input-20-6fec0d456da1>\u001b[0m in \u001b[0;36m<cell line: 46>\u001b[0;34m()\u001b[0m\n\u001b[1;32m     44\u001b[0m     \u001b[0mdecimal\u001b[0m \u001b[0;34m=\u001b[0m \u001b[0mhexadecimal_a_decimal\u001b[0m\u001b[0;34m(\u001b[0m\u001b[0mhexadecimal\u001b[0m\u001b[0;34m)\u001b[0m\u001b[0;34m\u001b[0m\u001b[0;34m\u001b[0m\u001b[0m\n\u001b[1;32m     45\u001b[0m     \u001b[0;32mreturn\u001b[0m \u001b[0mdecimal_a_binario\u001b[0m\u001b[0;34m(\u001b[0m\u001b[0mdecimal\u001b[0m\u001b[0;34m)\u001b[0m\u001b[0;34m\u001b[0m\u001b[0;34m\u001b[0m\u001b[0m\n\u001b[0;32m---> 46\u001b[0;31m \u001b[0;32mwhile\u001b[0m \u001b[0ma\u001b[0m\u001b[0;34m==\u001b[0m\u001b[0;32mTrue\u001b[0m\u001b[0;34m:\u001b[0m\u001b[0;34m\u001b[0m\u001b[0;34m\u001b[0m\u001b[0m\n\u001b[0m\u001b[1;32m     47\u001b[0m           \u001b[0;32mdef\u001b[0m \u001b[0mmain\u001b[0m\u001b[0;34m(\u001b[0m\u001b[0;34m)\u001b[0m\u001b[0;34m:\u001b[0m\u001b[0;34m\u001b[0m\u001b[0;34m\u001b[0m\u001b[0m\n\u001b[1;32m     48\u001b[0m               \u001b[0mprint\u001b[0m\u001b[0;34m(\u001b[0m\u001b[0;34m\"Seleccione la conversión que desea realizar:\"\u001b[0m\u001b[0;34m)\u001b[0m\u001b[0;34m\u001b[0m\u001b[0;34m\u001b[0m\u001b[0m\n",
            "\u001b[0;31mKeyboardInterrupt\u001b[0m: "
          ]
        }
      ]
    },
    {
      "cell_type": "markdown",
      "source": [
        "# (25%) Ejercicio 3\n",
        "[El Lago de Tota](https://es.wikipedia.org/wiki/Lago_de_Tota) es un cuerpo de agua natural situado en el departamento de Boyacá, Colombia, en jurisdicción de los municipios de Cuítiva, Tota y Aquitania. Se encuentra ubicado a 34 km al sur de Sogamoso, aproximadamente 200 km al noreste de Bogotá, la capital del país.\n",
        "\n",
        "En el [Portal de datos de Colombia](https://www.datos.gov.co/Ambiente-y-Desarrollo-Sostenible/Precipitaciones-Totales-Mensuales/mb4n-6m2g) se publica el volumen de precipitaciones mensuales obtenido en la red de estaciones hidrológicas de la Corporación Autónoma Regional de Cundinamarca - CAR.\n",
        "\n",
        "En este ejercicio debes realizar un algoritmo que calcule lo siguiente:\n",
        "\n",
        "1.   El promedio anual de precipitación en el Lago para cada año presentado en la tabla.\n",
        "2.   El promedio mensual de precipitación en el Lago para cada **mes** presentado en la tabla.\n",
        "2.   El mes y año que registra menor precipitación.\n",
        "3.   El año más lluvioso.\n",
        "4.   El mes más lluvioso.\n",
        "\n",
        "\n",
        "\n",
        "\n"
      ],
      "metadata": {
        "id": "ICwbd3fNJ6wp"
      }
    },
    {
      "cell_type": "markdown",
      "source": [
        "|AÑO |ENERO|FEBRERO|MARZO|ABRIL|MAYO |JUNIO|JULIO|AGOSTO|SEPTIEMBRE|OCTUBRE|NOVIEMBRE|DICIEMBRE|\n",
        "|----|-----|-------|-----|-----|-----|-----|-----|------|----------|-------|---------|---------|\n",
        "|1967|54   |25.5   |128  |156.1|207.1|314.5|217.5|240.1 |109.1     |77.5   |280.2    |51.1     |\n",
        "|1977|0    |35     |85   |107  |82.1 |224  |430.5|144   |339.5     |192    |401.5    |88       |\n",
        "|1987|27   |55     |71.9 |77.4 |139.1|81.7 |82.6 |130.5 |78.8      |102.6  |57.4     |63.1     |\n",
        "|1997|79.6 |59.7   |38.8 |81   |111.4|83.9 |201.8|108.1 |57.9      |73     |77.5     |5        |\n",
        "|2007|0    |32.7   |95.4 |128.2|88.3 |223.7|57.9 |128.2 |58.5      |147.8  |77.3     |127.2    |\n",
        "|2017|119.1|57.8   |210.7|66.6 |170.8|189.5|190  |132.8 |52.2      |140.4  |92.7     |102.5    |"
      ],
      "metadata": {
        "id": "wStfrRuEgnHv"
      }
    },
    {
      "cell_type": "markdown",
      "source": [
        "**Nota:**\n",
        "1. Los datos presentados en la tabla incluyen 6 años de información recogida en la Estación Meteorológica El Bosque de la cuenca Río Tunjuelo del Municipio de Santafe de Bogotá.\n",
        "\n",
        "2. Medición de la lluvia: La precipitación o cantidad de lluvia caída se mide ubicando un recipiente de fondo plano (pluviómetro) ubicado en una estación meteorológica y midiendo en horarios fijos la altura del agua recogida en milímetros. Cada milímetro de altura en el pluviómetro equivale a 1 L de agua por m²."
      ],
      "metadata": {
        "id": "R6BQ6zcppe5d"
      }
    },
    {
      "cell_type": "code",
      "source": [
        "# Desarrolle su ejercicio aquí\n"
      ],
      "metadata": {
        "id": "A-9Xii4PgS0s"
      },
      "execution_count": null,
      "outputs": []
    },
    {
      "cell_type": "markdown",
      "source": [
        "# (25%) Ejercicio 4\n",
        "\n",
        "Al final del bloque completaremos un programa que permita calcular la calificación final de un curso de acuerdo al porcentaje de ponderación y a la calificación obtenida en cada tarea.\n",
        "\n",
        "En este ejercicio debes solicitar al usuario, con la función ```input()```, la cantidad de tareas que tiene la asignatura, luego solicita las ponderaciones de cada tarea, así como la calificación obtenida y el nombre de cada tarea.\n",
        "\n",
        "Analiza en qué tipo de arreglo es mas conveniente almacenar la información para calcular la calificación global del curso y presentar un resumen del desempeño del usuario. Recuerda usar bucles para hacer más eficiente el algoritmo."
      ],
      "metadata": {
        "id": "Lv7Roq3mduYJ"
      }
    },
    {
      "cell_type": "code",
      "source": [
        "# Desarrolle su ejercicio aquí\n",
        "\n",
        "\n"
      ],
      "metadata": {
        "id": "GSWElo8ArbEH"
      },
      "execution_count": null,
      "outputs": []
    }
  ]
}