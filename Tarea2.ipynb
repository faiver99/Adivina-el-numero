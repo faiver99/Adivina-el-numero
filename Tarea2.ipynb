{
  "nbformat": 4,
  "nbformat_minor": 0,
  "metadata": {
    "colab": {
      "provenance": [],
      "toc_visible": true,
      "include_colab_link": true
    },
    "kernelspec": {
      "name": "python3",
      "display_name": "Python 3"
    },
    "language_info": {
      "name": "python"
    },
    "widgets": {
      "application/vnd.jupyter.widget-state+json": {
        "8e76bf29e1cb41bba687110503909ab8": {
          "model_module": "@jupyter-widgets/controls",
          "model_name": "TextModel",
          "model_module_version": "1.5.0",
          "state": {
            "_dom_classes": [],
            "_model_module": "@jupyter-widgets/controls",
            "_model_module_version": "1.5.0",
            "_model_name": "TextModel",
            "_view_count": null,
            "_view_module": "@jupyter-widgets/controls",
            "_view_module_version": "1.5.0",
            "_view_name": "TextView",
            "continuous_update": true,
            "description": "Nombre Tarea 1   :",
            "description_tooltip": null,
            "disabled": false,
            "layout": "IPY_MODEL_34eedbc6141b4f2cbcdc6c9cd0c8082c",
            "placeholder": "​",
            "style": "IPY_MODEL_b60bec86a91844fc8957d0e0901123bd",
            "value": ""
          }
        },
        "34eedbc6141b4f2cbcdc6c9cd0c8082c": {
          "model_module": "@jupyter-widgets/base",
          "model_name": "LayoutModel",
          "model_module_version": "1.2.0",
          "state": {
            "_model_module": "@jupyter-widgets/base",
            "_model_module_version": "1.2.0",
            "_model_name": "LayoutModel",
            "_view_count": null,
            "_view_module": "@jupyter-widgets/base",
            "_view_module_version": "1.2.0",
            "_view_name": "LayoutView",
            "align_content": null,
            "align_items": null,
            "align_self": null,
            "border": null,
            "bottom": null,
            "display": null,
            "flex": null,
            "flex_flow": null,
            "grid_area": null,
            "grid_auto_columns": null,
            "grid_auto_flow": null,
            "grid_auto_rows": null,
            "grid_column": null,
            "grid_gap": null,
            "grid_row": null,
            "grid_template_areas": null,
            "grid_template_columns": null,
            "grid_template_rows": null,
            "height": null,
            "justify_content": null,
            "justify_items": null,
            "left": null,
            "margin": null,
            "max_height": null,
            "max_width": null,
            "min_height": null,
            "min_width": null,
            "object_fit": null,
            "object_position": null,
            "order": null,
            "overflow": null,
            "overflow_x": null,
            "overflow_y": null,
            "padding": null,
            "right": null,
            "top": null,
            "visibility": null,
            "width": null
          }
        },
        "b60bec86a91844fc8957d0e0901123bd": {
          "model_module": "@jupyter-widgets/controls",
          "model_name": "DescriptionStyleModel",
          "model_module_version": "1.5.0",
          "state": {
            "_model_module": "@jupyter-widgets/controls",
            "_model_module_version": "1.5.0",
            "_model_name": "DescriptionStyleModel",
            "_view_count": null,
            "_view_module": "@jupyter-widgets/base",
            "_view_module_version": "1.2.0",
            "_view_name": "StyleView",
            "description_width": ""
          }
        },
        "d11c20d1bd614c3b8fde4d37011541ed": {
          "model_module": "@jupyter-widgets/controls",
          "model_name": "FloatTextModel",
          "model_module_version": "1.5.0",
          "state": {
            "_dom_classes": [],
            "_model_module": "@jupyter-widgets/controls",
            "_model_module_version": "1.5.0",
            "_model_name": "FloatTextModel",
            "_view_count": null,
            "_view_module": "@jupyter-widgets/controls",
            "_view_module_version": "1.5.0",
            "_view_name": "FloatTextView",
            "continuous_update": false,
            "description": "Peso Tarea 1   :",
            "description_tooltip": null,
            "disabled": false,
            "layout": "IPY_MODEL_c8846186204642eea52ff857f24a2593",
            "step": null,
            "style": "IPY_MODEL_4572a122d6724931b03ecdb22a57734a",
            "value": 0
          }
        },
        "c8846186204642eea52ff857f24a2593": {
          "model_module": "@jupyter-widgets/base",
          "model_name": "LayoutModel",
          "model_module_version": "1.2.0",
          "state": {
            "_model_module": "@jupyter-widgets/base",
            "_model_module_version": "1.2.0",
            "_model_name": "LayoutModel",
            "_view_count": null,
            "_view_module": "@jupyter-widgets/base",
            "_view_module_version": "1.2.0",
            "_view_name": "LayoutView",
            "align_content": null,
            "align_items": null,
            "align_self": null,
            "border": null,
            "bottom": null,
            "display": null,
            "flex": null,
            "flex_flow": null,
            "grid_area": null,
            "grid_auto_columns": null,
            "grid_auto_flow": null,
            "grid_auto_rows": null,
            "grid_column": null,
            "grid_gap": null,
            "grid_row": null,
            "grid_template_areas": null,
            "grid_template_columns": null,
            "grid_template_rows": null,
            "height": null,
            "justify_content": null,
            "justify_items": null,
            "left": null,
            "margin": null,
            "max_height": null,
            "max_width": null,
            "min_height": null,
            "min_width": null,
            "object_fit": null,
            "object_position": null,
            "order": null,
            "overflow": null,
            "overflow_x": null,
            "overflow_y": null,
            "padding": null,
            "right": null,
            "top": null,
            "visibility": null,
            "width": null
          }
        },
        "4572a122d6724931b03ecdb22a57734a": {
          "model_module": "@jupyter-widgets/controls",
          "model_name": "DescriptionStyleModel",
          "model_module_version": "1.5.0",
          "state": {
            "_model_module": "@jupyter-widgets/controls",
            "_model_module_version": "1.5.0",
            "_model_name": "DescriptionStyleModel",
            "_view_count": null,
            "_view_module": "@jupyter-widgets/base",
            "_view_module_version": "1.2.0",
            "_view_name": "StyleView",
            "description_width": ""
          }
        },
        "fe5e9249362e4308b5e8c806dd2ff41f": {
          "model_module": "@jupyter-widgets/controls",
          "model_name": "FloatTextModel",
          "model_module_version": "1.5.0",
          "state": {
            "_dom_classes": [],
            "_model_module": "@jupyter-widgets/controls",
            "_model_module_version": "1.5.0",
            "_model_name": "FloatTextModel",
            "_view_count": null,
            "_view_module": "@jupyter-widgets/controls",
            "_view_module_version": "1.5.0",
            "_view_name": "FloatTextView",
            "continuous_update": false,
            "description": "Nota Tarea 1   :",
            "description_tooltip": null,
            "disabled": false,
            "layout": "IPY_MODEL_0eedb8b6944943f791962f1400e3daae",
            "step": null,
            "style": "IPY_MODEL_ed452fc8f58b4e81b1b84c946fad4076",
            "value": 0
          }
        },
        "0eedb8b6944943f791962f1400e3daae": {
          "model_module": "@jupyter-widgets/base",
          "model_name": "LayoutModel",
          "model_module_version": "1.2.0",
          "state": {
            "_model_module": "@jupyter-widgets/base",
            "_model_module_version": "1.2.0",
            "_model_name": "LayoutModel",
            "_view_count": null,
            "_view_module": "@jupyter-widgets/base",
            "_view_module_version": "1.2.0",
            "_view_name": "LayoutView",
            "align_content": null,
            "align_items": null,
            "align_self": null,
            "border": null,
            "bottom": null,
            "display": null,
            "flex": null,
            "flex_flow": null,
            "grid_area": null,
            "grid_auto_columns": null,
            "grid_auto_flow": null,
            "grid_auto_rows": null,
            "grid_column": null,
            "grid_gap": null,
            "grid_row": null,
            "grid_template_areas": null,
            "grid_template_columns": null,
            "grid_template_rows": null,
            "height": null,
            "justify_content": null,
            "justify_items": null,
            "left": null,
            "margin": null,
            "max_height": null,
            "max_width": null,
            "min_height": null,
            "min_width": null,
            "object_fit": null,
            "object_position": null,
            "order": null,
            "overflow": null,
            "overflow_x": null,
            "overflow_y": null,
            "padding": null,
            "right": null,
            "top": null,
            "visibility": null,
            "width": null
          }
        },
        "ed452fc8f58b4e81b1b84c946fad4076": {
          "model_module": "@jupyter-widgets/controls",
          "model_name": "DescriptionStyleModel",
          "model_module_version": "1.5.0",
          "state": {
            "_model_module": "@jupyter-widgets/controls",
            "_model_module_version": "1.5.0",
            "_model_name": "DescriptionStyleModel",
            "_view_count": null,
            "_view_module": "@jupyter-widgets/base",
            "_view_module_version": "1.2.0",
            "_view_name": "StyleView",
            "description_width": ""
          }
        },
        "8523bb5e6140439881089e3f7dc95914": {
          "model_module": "@jupyter-widgets/controls",
          "model_name": "TextModel",
          "model_module_version": "1.5.0",
          "state": {
            "_dom_classes": [],
            "_model_module": "@jupyter-widgets/controls",
            "_model_module_version": "1.5.0",
            "_model_name": "TextModel",
            "_view_count": null,
            "_view_module": "@jupyter-widgets/controls",
            "_view_module_version": "1.5.0",
            "_view_name": "TextView",
            "continuous_update": true,
            "description": "Nombre Tarea 2:",
            "description_tooltip": null,
            "disabled": false,
            "layout": "IPY_MODEL_b3e0bd2fd16340db9a364f23c6706a87",
            "placeholder": "​",
            "style": "IPY_MODEL_41298774b9ac4029af001ca1b927b3ee",
            "value": ""
          }
        },
        "b3e0bd2fd16340db9a364f23c6706a87": {
          "model_module": "@jupyter-widgets/base",
          "model_name": "LayoutModel",
          "model_module_version": "1.2.0",
          "state": {
            "_model_module": "@jupyter-widgets/base",
            "_model_module_version": "1.2.0",
            "_model_name": "LayoutModel",
            "_view_count": null,
            "_view_module": "@jupyter-widgets/base",
            "_view_module_version": "1.2.0",
            "_view_name": "LayoutView",
            "align_content": null,
            "align_items": null,
            "align_self": null,
            "border": null,
            "bottom": null,
            "display": null,
            "flex": null,
            "flex_flow": null,
            "grid_area": null,
            "grid_auto_columns": null,
            "grid_auto_flow": null,
            "grid_auto_rows": null,
            "grid_column": null,
            "grid_gap": null,
            "grid_row": null,
            "grid_template_areas": null,
            "grid_template_columns": null,
            "grid_template_rows": null,
            "height": null,
            "justify_content": null,
            "justify_items": null,
            "left": null,
            "margin": null,
            "max_height": null,
            "max_width": null,
            "min_height": null,
            "min_width": null,
            "object_fit": null,
            "object_position": null,
            "order": null,
            "overflow": null,
            "overflow_x": null,
            "overflow_y": null,
            "padding": null,
            "right": null,
            "top": null,
            "visibility": null,
            "width": null
          }
        },
        "41298774b9ac4029af001ca1b927b3ee": {
          "model_module": "@jupyter-widgets/controls",
          "model_name": "DescriptionStyleModel",
          "model_module_version": "1.5.0",
          "state": {
            "_model_module": "@jupyter-widgets/controls",
            "_model_module_version": "1.5.0",
            "_model_name": "DescriptionStyleModel",
            "_view_count": null,
            "_view_module": "@jupyter-widgets/base",
            "_view_module_version": "1.2.0",
            "_view_name": "StyleView",
            "description_width": ""
          }
        },
        "6a04f9fbc5a748b2882aaa9c0f05247e": {
          "model_module": "@jupyter-widgets/controls",
          "model_name": "FloatTextModel",
          "model_module_version": "1.5.0",
          "state": {
            "_dom_classes": [],
            "_model_module": "@jupyter-widgets/controls",
            "_model_module_version": "1.5.0",
            "_model_name": "FloatTextModel",
            "_view_count": null,
            "_view_module": "@jupyter-widgets/controls",
            "_view_module_version": "1.5.0",
            "_view_name": "FloatTextView",
            "continuous_update": false,
            "description": "Peso Tarea 2:",
            "description_tooltip": null,
            "disabled": false,
            "layout": "IPY_MODEL_c29a62163f9e4e518d34da57607e2a11",
            "step": null,
            "style": "IPY_MODEL_a0fee33e25234f2baad1c83194351ae8",
            "value": 0
          }
        },
        "c29a62163f9e4e518d34da57607e2a11": {
          "model_module": "@jupyter-widgets/base",
          "model_name": "LayoutModel",
          "model_module_version": "1.2.0",
          "state": {
            "_model_module": "@jupyter-widgets/base",
            "_model_module_version": "1.2.0",
            "_model_name": "LayoutModel",
            "_view_count": null,
            "_view_module": "@jupyter-widgets/base",
            "_view_module_version": "1.2.0",
            "_view_name": "LayoutView",
            "align_content": null,
            "align_items": null,
            "align_self": null,
            "border": null,
            "bottom": null,
            "display": null,
            "flex": null,
            "flex_flow": null,
            "grid_area": null,
            "grid_auto_columns": null,
            "grid_auto_flow": null,
            "grid_auto_rows": null,
            "grid_column": null,
            "grid_gap": null,
            "grid_row": null,
            "grid_template_areas": null,
            "grid_template_columns": null,
            "grid_template_rows": null,
            "height": null,
            "justify_content": null,
            "justify_items": null,
            "left": null,
            "margin": null,
            "max_height": null,
            "max_width": null,
            "min_height": null,
            "min_width": null,
            "object_fit": null,
            "object_position": null,
            "order": null,
            "overflow": null,
            "overflow_x": null,
            "overflow_y": null,
            "padding": null,
            "right": null,
            "top": null,
            "visibility": null,
            "width": null
          }
        },
        "a0fee33e25234f2baad1c83194351ae8": {
          "model_module": "@jupyter-widgets/controls",
          "model_name": "DescriptionStyleModel",
          "model_module_version": "1.5.0",
          "state": {
            "_model_module": "@jupyter-widgets/controls",
            "_model_module_version": "1.5.0",
            "_model_name": "DescriptionStyleModel",
            "_view_count": null,
            "_view_module": "@jupyter-widgets/base",
            "_view_module_version": "1.2.0",
            "_view_name": "StyleView",
            "description_width": ""
          }
        },
        "0be7f98b609c4a34922b293e3b499b6c": {
          "model_module": "@jupyter-widgets/controls",
          "model_name": "FloatTextModel",
          "model_module_version": "1.5.0",
          "state": {
            "_dom_classes": [],
            "_model_module": "@jupyter-widgets/controls",
            "_model_module_version": "1.5.0",
            "_model_name": "FloatTextModel",
            "_view_count": null,
            "_view_module": "@jupyter-widgets/controls",
            "_view_module_version": "1.5.0",
            "_view_name": "FloatTextView",
            "continuous_update": false,
            "description": "Nota Tarea 2:",
            "description_tooltip": null,
            "disabled": false,
            "layout": "IPY_MODEL_0d0c2bf2600843169a363e5aa26c7176",
            "step": null,
            "style": "IPY_MODEL_699c2fdd53724f339d0eba9421ccfb8d",
            "value": 0
          }
        },
        "0d0c2bf2600843169a363e5aa26c7176": {
          "model_module": "@jupyter-widgets/base",
          "model_name": "LayoutModel",
          "model_module_version": "1.2.0",
          "state": {
            "_model_module": "@jupyter-widgets/base",
            "_model_module_version": "1.2.0",
            "_model_name": "LayoutModel",
            "_view_count": null,
            "_view_module": "@jupyter-widgets/base",
            "_view_module_version": "1.2.0",
            "_view_name": "LayoutView",
            "align_content": null,
            "align_items": null,
            "align_self": null,
            "border": null,
            "bottom": null,
            "display": null,
            "flex": null,
            "flex_flow": null,
            "grid_area": null,
            "grid_auto_columns": null,
            "grid_auto_flow": null,
            "grid_auto_rows": null,
            "grid_column": null,
            "grid_gap": null,
            "grid_row": null,
            "grid_template_areas": null,
            "grid_template_columns": null,
            "grid_template_rows": null,
            "height": null,
            "justify_content": null,
            "justify_items": null,
            "left": null,
            "margin": null,
            "max_height": null,
            "max_width": null,
            "min_height": null,
            "min_width": null,
            "object_fit": null,
            "object_position": null,
            "order": null,
            "overflow": null,
            "overflow_x": null,
            "overflow_y": null,
            "padding": null,
            "right": null,
            "top": null,
            "visibility": null,
            "width": null
          }
        },
        "699c2fdd53724f339d0eba9421ccfb8d": {
          "model_module": "@jupyter-widgets/controls",
          "model_name": "DescriptionStyleModel",
          "model_module_version": "1.5.0",
          "state": {
            "_model_module": "@jupyter-widgets/controls",
            "_model_module_version": "1.5.0",
            "_model_name": "DescriptionStyleModel",
            "_view_count": null,
            "_view_module": "@jupyter-widgets/base",
            "_view_module_version": "1.2.0",
            "_view_name": "StyleView",
            "description_width": ""
          }
        },
        "0a78e4e72da343df87062926654e13b8": {
          "model_module": "@jupyter-widgets/controls",
          "model_name": "TextModel",
          "model_module_version": "1.5.0",
          "state": {
            "_dom_classes": [],
            "_model_module": "@jupyter-widgets/controls",
            "_model_module_version": "1.5.0",
            "_model_name": "TextModel",
            "_view_count": null,
            "_view_module": "@jupyter-widgets/controls",
            "_view_module_version": "1.5.0",
            "_view_name": "TextView",
            "continuous_update": true,
            "description": "Nombre Tarea 3:",
            "description_tooltip": null,
            "disabled": false,
            "layout": "IPY_MODEL_7dc3f5a990f54eb0b661edb011cd9814",
            "placeholder": "​",
            "style": "IPY_MODEL_f735b069955e42e58b92b4e6301e129b",
            "value": ""
          }
        },
        "7dc3f5a990f54eb0b661edb011cd9814": {
          "model_module": "@jupyter-widgets/base",
          "model_name": "LayoutModel",
          "model_module_version": "1.2.0",
          "state": {
            "_model_module": "@jupyter-widgets/base",
            "_model_module_version": "1.2.0",
            "_model_name": "LayoutModel",
            "_view_count": null,
            "_view_module": "@jupyter-widgets/base",
            "_view_module_version": "1.2.0",
            "_view_name": "LayoutView",
            "align_content": null,
            "align_items": null,
            "align_self": null,
            "border": null,
            "bottom": null,
            "display": null,
            "flex": null,
            "flex_flow": null,
            "grid_area": null,
            "grid_auto_columns": null,
            "grid_auto_flow": null,
            "grid_auto_rows": null,
            "grid_column": null,
            "grid_gap": null,
            "grid_row": null,
            "grid_template_areas": null,
            "grid_template_columns": null,
            "grid_template_rows": null,
            "height": null,
            "justify_content": null,
            "justify_items": null,
            "left": null,
            "margin": null,
            "max_height": null,
            "max_width": null,
            "min_height": null,
            "min_width": null,
            "object_fit": null,
            "object_position": null,
            "order": null,
            "overflow": null,
            "overflow_x": null,
            "overflow_y": null,
            "padding": null,
            "right": null,
            "top": null,
            "visibility": null,
            "width": null
          }
        },
        "f735b069955e42e58b92b4e6301e129b": {
          "model_module": "@jupyter-widgets/controls",
          "model_name": "DescriptionStyleModel",
          "model_module_version": "1.5.0",
          "state": {
            "_model_module": "@jupyter-widgets/controls",
            "_model_module_version": "1.5.0",
            "_model_name": "DescriptionStyleModel",
            "_view_count": null,
            "_view_module": "@jupyter-widgets/base",
            "_view_module_version": "1.2.0",
            "_view_name": "StyleView",
            "description_width": ""
          }
        },
        "ae169624ede641b4b428ed8ed2a6ba4a": {
          "model_module": "@jupyter-widgets/controls",
          "model_name": "FloatTextModel",
          "model_module_version": "1.5.0",
          "state": {
            "_dom_classes": [],
            "_model_module": "@jupyter-widgets/controls",
            "_model_module_version": "1.5.0",
            "_model_name": "FloatTextModel",
            "_view_count": null,
            "_view_module": "@jupyter-widgets/controls",
            "_view_module_version": "1.5.0",
            "_view_name": "FloatTextView",
            "continuous_update": false,
            "description": "Peso Tarea 3:",
            "description_tooltip": null,
            "disabled": false,
            "layout": "IPY_MODEL_730ea7d655514785afb15d8e1faedf2e",
            "step": null,
            "style": "IPY_MODEL_e9472adcec1048948649103f31f965e2",
            "value": 0
          }
        },
        "730ea7d655514785afb15d8e1faedf2e": {
          "model_module": "@jupyter-widgets/base",
          "model_name": "LayoutModel",
          "model_module_version": "1.2.0",
          "state": {
            "_model_module": "@jupyter-widgets/base",
            "_model_module_version": "1.2.0",
            "_model_name": "LayoutModel",
            "_view_count": null,
            "_view_module": "@jupyter-widgets/base",
            "_view_module_version": "1.2.0",
            "_view_name": "LayoutView",
            "align_content": null,
            "align_items": null,
            "align_self": null,
            "border": null,
            "bottom": null,
            "display": null,
            "flex": null,
            "flex_flow": null,
            "grid_area": null,
            "grid_auto_columns": null,
            "grid_auto_flow": null,
            "grid_auto_rows": null,
            "grid_column": null,
            "grid_gap": null,
            "grid_row": null,
            "grid_template_areas": null,
            "grid_template_columns": null,
            "grid_template_rows": null,
            "height": null,
            "justify_content": null,
            "justify_items": null,
            "left": null,
            "margin": null,
            "max_height": null,
            "max_width": null,
            "min_height": null,
            "min_width": null,
            "object_fit": null,
            "object_position": null,
            "order": null,
            "overflow": null,
            "overflow_x": null,
            "overflow_y": null,
            "padding": null,
            "right": null,
            "top": null,
            "visibility": null,
            "width": null
          }
        },
        "e9472adcec1048948649103f31f965e2": {
          "model_module": "@jupyter-widgets/controls",
          "model_name": "DescriptionStyleModel",
          "model_module_version": "1.5.0",
          "state": {
            "_model_module": "@jupyter-widgets/controls",
            "_model_module_version": "1.5.0",
            "_model_name": "DescriptionStyleModel",
            "_view_count": null,
            "_view_module": "@jupyter-widgets/base",
            "_view_module_version": "1.2.0",
            "_view_name": "StyleView",
            "description_width": ""
          }
        },
        "9858dff41615473183c1580845ab9031": {
          "model_module": "@jupyter-widgets/controls",
          "model_name": "FloatTextModel",
          "model_module_version": "1.5.0",
          "state": {
            "_dom_classes": [],
            "_model_module": "@jupyter-widgets/controls",
            "_model_module_version": "1.5.0",
            "_model_name": "FloatTextModel",
            "_view_count": null,
            "_view_module": "@jupyter-widgets/controls",
            "_view_module_version": "1.5.0",
            "_view_name": "FloatTextView",
            "continuous_update": false,
            "description": "Nota Tarea 3:",
            "description_tooltip": null,
            "disabled": false,
            "layout": "IPY_MODEL_138929852f6548b0b9e9a7d642eb1b66",
            "step": null,
            "style": "IPY_MODEL_e4a7abab01b443dbb023b9eb3d3c8a1d",
            "value": 0
          }
        },
        "138929852f6548b0b9e9a7d642eb1b66": {
          "model_module": "@jupyter-widgets/base",
          "model_name": "LayoutModel",
          "model_module_version": "1.2.0",
          "state": {
            "_model_module": "@jupyter-widgets/base",
            "_model_module_version": "1.2.0",
            "_model_name": "LayoutModel",
            "_view_count": null,
            "_view_module": "@jupyter-widgets/base",
            "_view_module_version": "1.2.0",
            "_view_name": "LayoutView",
            "align_content": null,
            "align_items": null,
            "align_self": null,
            "border": null,
            "bottom": null,
            "display": null,
            "flex": null,
            "flex_flow": null,
            "grid_area": null,
            "grid_auto_columns": null,
            "grid_auto_flow": null,
            "grid_auto_rows": null,
            "grid_column": null,
            "grid_gap": null,
            "grid_row": null,
            "grid_template_areas": null,
            "grid_template_columns": null,
            "grid_template_rows": null,
            "height": null,
            "justify_content": null,
            "justify_items": null,
            "left": null,
            "margin": null,
            "max_height": null,
            "max_width": null,
            "min_height": null,
            "min_width": null,
            "object_fit": null,
            "object_position": null,
            "order": null,
            "overflow": null,
            "overflow_x": null,
            "overflow_y": null,
            "padding": null,
            "right": null,
            "top": null,
            "visibility": null,
            "width": null
          }
        },
        "e4a7abab01b443dbb023b9eb3d3c8a1d": {
          "model_module": "@jupyter-widgets/controls",
          "model_name": "DescriptionStyleModel",
          "model_module_version": "1.5.0",
          "state": {
            "_model_module": "@jupyter-widgets/controls",
            "_model_module_version": "1.5.0",
            "_model_name": "DescriptionStyleModel",
            "_view_count": null,
            "_view_module": "@jupyter-widgets/base",
            "_view_module_version": "1.2.0",
            "_view_name": "StyleView",
            "description_width": ""
          }
        },
        "68c6dee6e2ef48179b52bf234d449c9e": {
          "model_module": "@jupyter-widgets/controls",
          "model_name": "TextModel",
          "model_module_version": "1.5.0",
          "state": {
            "_dom_classes": [],
            "_model_module": "@jupyter-widgets/controls",
            "_model_module_version": "1.5.0",
            "_model_name": "TextModel",
            "_view_count": null,
            "_view_module": "@jupyter-widgets/controls",
            "_view_module_version": "1.5.0",
            "_view_name": "TextView",
            "continuous_update": true,
            "description": "Nombre Tarea 4:",
            "description_tooltip": null,
            "disabled": false,
            "layout": "IPY_MODEL_fa60d9cdabab417d99289ab2101306ae",
            "placeholder": "​",
            "style": "IPY_MODEL_601906e82a5445ffa6aeb567dae2ec37",
            "value": ""
          }
        },
        "fa60d9cdabab417d99289ab2101306ae": {
          "model_module": "@jupyter-widgets/base",
          "model_name": "LayoutModel",
          "model_module_version": "1.2.0",
          "state": {
            "_model_module": "@jupyter-widgets/base",
            "_model_module_version": "1.2.0",
            "_model_name": "LayoutModel",
            "_view_count": null,
            "_view_module": "@jupyter-widgets/base",
            "_view_module_version": "1.2.0",
            "_view_name": "LayoutView",
            "align_content": null,
            "align_items": null,
            "align_self": null,
            "border": null,
            "bottom": null,
            "display": null,
            "flex": null,
            "flex_flow": null,
            "grid_area": null,
            "grid_auto_columns": null,
            "grid_auto_flow": null,
            "grid_auto_rows": null,
            "grid_column": null,
            "grid_gap": null,
            "grid_row": null,
            "grid_template_areas": null,
            "grid_template_columns": null,
            "grid_template_rows": null,
            "height": null,
            "justify_content": null,
            "justify_items": null,
            "left": null,
            "margin": null,
            "max_height": null,
            "max_width": null,
            "min_height": null,
            "min_width": null,
            "object_fit": null,
            "object_position": null,
            "order": null,
            "overflow": null,
            "overflow_x": null,
            "overflow_y": null,
            "padding": null,
            "right": null,
            "top": null,
            "visibility": null,
            "width": null
          }
        },
        "601906e82a5445ffa6aeb567dae2ec37": {
          "model_module": "@jupyter-widgets/controls",
          "model_name": "DescriptionStyleModel",
          "model_module_version": "1.5.0",
          "state": {
            "_model_module": "@jupyter-widgets/controls",
            "_model_module_version": "1.5.0",
            "_model_name": "DescriptionStyleModel",
            "_view_count": null,
            "_view_module": "@jupyter-widgets/base",
            "_view_module_version": "1.2.0",
            "_view_name": "StyleView",
            "description_width": ""
          }
        },
        "0a36ba98b7f3473283a8b46f49c2d83b": {
          "model_module": "@jupyter-widgets/controls",
          "model_name": "FloatTextModel",
          "model_module_version": "1.5.0",
          "state": {
            "_dom_classes": [],
            "_model_module": "@jupyter-widgets/controls",
            "_model_module_version": "1.5.0",
            "_model_name": "FloatTextModel",
            "_view_count": null,
            "_view_module": "@jupyter-widgets/controls",
            "_view_module_version": "1.5.0",
            "_view_name": "FloatTextView",
            "continuous_update": false,
            "description": "Peso Tarea 4:",
            "description_tooltip": null,
            "disabled": false,
            "layout": "IPY_MODEL_70e24e69297e43df9d0bf5e119677c89",
            "step": null,
            "style": "IPY_MODEL_a51701ed6b714fae95cbc39e5ce572ca",
            "value": 0
          }
        },
        "70e24e69297e43df9d0bf5e119677c89": {
          "model_module": "@jupyter-widgets/base",
          "model_name": "LayoutModel",
          "model_module_version": "1.2.0",
          "state": {
            "_model_module": "@jupyter-widgets/base",
            "_model_module_version": "1.2.0",
            "_model_name": "LayoutModel",
            "_view_count": null,
            "_view_module": "@jupyter-widgets/base",
            "_view_module_version": "1.2.0",
            "_view_name": "LayoutView",
            "align_content": null,
            "align_items": null,
            "align_self": null,
            "border": null,
            "bottom": null,
            "display": null,
            "flex": null,
            "flex_flow": null,
            "grid_area": null,
            "grid_auto_columns": null,
            "grid_auto_flow": null,
            "grid_auto_rows": null,
            "grid_column": null,
            "grid_gap": null,
            "grid_row": null,
            "grid_template_areas": null,
            "grid_template_columns": null,
            "grid_template_rows": null,
            "height": null,
            "justify_content": null,
            "justify_items": null,
            "left": null,
            "margin": null,
            "max_height": null,
            "max_width": null,
            "min_height": null,
            "min_width": null,
            "object_fit": null,
            "object_position": null,
            "order": null,
            "overflow": null,
            "overflow_x": null,
            "overflow_y": null,
            "padding": null,
            "right": null,
            "top": null,
            "visibility": null,
            "width": null
          }
        },
        "a51701ed6b714fae95cbc39e5ce572ca": {
          "model_module": "@jupyter-widgets/controls",
          "model_name": "DescriptionStyleModel",
          "model_module_version": "1.5.0",
          "state": {
            "_model_module": "@jupyter-widgets/controls",
            "_model_module_version": "1.5.0",
            "_model_name": "DescriptionStyleModel",
            "_view_count": null,
            "_view_module": "@jupyter-widgets/base",
            "_view_module_version": "1.2.0",
            "_view_name": "StyleView",
            "description_width": ""
          }
        },
        "e3ebe5da8d58462f9f8cab5cdf39c723": {
          "model_module": "@jupyter-widgets/controls",
          "model_name": "FloatTextModel",
          "model_module_version": "1.5.0",
          "state": {
            "_dom_classes": [],
            "_model_module": "@jupyter-widgets/controls",
            "_model_module_version": "1.5.0",
            "_model_name": "FloatTextModel",
            "_view_count": null,
            "_view_module": "@jupyter-widgets/controls",
            "_view_module_version": "1.5.0",
            "_view_name": "FloatTextView",
            "continuous_update": false,
            "description": "Nota Tarea 4:",
            "description_tooltip": null,
            "disabled": false,
            "layout": "IPY_MODEL_e5a58c67168440468ea81feeccdc69bf",
            "step": null,
            "style": "IPY_MODEL_d87e2aaa97194f89a19233cbec9018b7",
            "value": 5
          }
        },
        "e5a58c67168440468ea81feeccdc69bf": {
          "model_module": "@jupyter-widgets/base",
          "model_name": "LayoutModel",
          "model_module_version": "1.2.0",
          "state": {
            "_model_module": "@jupyter-widgets/base",
            "_model_module_version": "1.2.0",
            "_model_name": "LayoutModel",
            "_view_count": null,
            "_view_module": "@jupyter-widgets/base",
            "_view_module_version": "1.2.0",
            "_view_name": "LayoutView",
            "align_content": null,
            "align_items": null,
            "align_self": null,
            "border": null,
            "bottom": null,
            "display": null,
            "flex": null,
            "flex_flow": null,
            "grid_area": null,
            "grid_auto_columns": null,
            "grid_auto_flow": null,
            "grid_auto_rows": null,
            "grid_column": null,
            "grid_gap": null,
            "grid_row": null,
            "grid_template_areas": null,
            "grid_template_columns": null,
            "grid_template_rows": null,
            "height": null,
            "justify_content": null,
            "justify_items": null,
            "left": null,
            "margin": null,
            "max_height": null,
            "max_width": null,
            "min_height": null,
            "min_width": null,
            "object_fit": null,
            "object_position": null,
            "order": null,
            "overflow": null,
            "overflow_x": null,
            "overflow_y": null,
            "padding": null,
            "right": null,
            "top": null,
            "visibility": null,
            "width": null
          }
        },
        "d87e2aaa97194f89a19233cbec9018b7": {
          "model_module": "@jupyter-widgets/controls",
          "model_name": "DescriptionStyleModel",
          "model_module_version": "1.5.0",
          "state": {
            "_model_module": "@jupyter-widgets/controls",
            "_model_module_version": "1.5.0",
            "_model_name": "DescriptionStyleModel",
            "_view_count": null,
            "_view_module": "@jupyter-widgets/base",
            "_view_module_version": "1.2.0",
            "_view_name": "StyleView",
            "description_width": ""
          }
        },
        "d3091f40fff5443fbf4bb49635f9ee00": {
          "model_module": "@jupyter-widgets/controls",
          "model_name": "ButtonModel",
          "model_module_version": "1.5.0",
          "state": {
            "_dom_classes": [],
            "_model_module": "@jupyter-widgets/controls",
            "_model_module_version": "1.5.0",
            "_model_name": "ButtonModel",
            "_view_count": null,
            "_view_module": "@jupyter-widgets/controls",
            "_view_module_version": "1.5.0",
            "_view_name": "ButtonView",
            "button_style": "",
            "description": "Calcular",
            "disabled": false,
            "icon": "",
            "layout": "IPY_MODEL_fcfe951a9820471e8c9f062ba754b651",
            "style": "IPY_MODEL_1c986f9dc6094f49bfca9e092a9ef73a",
            "tooltip": ""
          }
        },
        "fcfe951a9820471e8c9f062ba754b651": {
          "model_module": "@jupyter-widgets/base",
          "model_name": "LayoutModel",
          "model_module_version": "1.2.0",
          "state": {
            "_model_module": "@jupyter-widgets/base",
            "_model_module_version": "1.2.0",
            "_model_name": "LayoutModel",
            "_view_count": null,
            "_view_module": "@jupyter-widgets/base",
            "_view_module_version": "1.2.0",
            "_view_name": "LayoutView",
            "align_content": null,
            "align_items": null,
            "align_self": null,
            "border": null,
            "bottom": null,
            "display": null,
            "flex": null,
            "flex_flow": null,
            "grid_area": null,
            "grid_auto_columns": null,
            "grid_auto_flow": null,
            "grid_auto_rows": null,
            "grid_column": null,
            "grid_gap": null,
            "grid_row": null,
            "grid_template_areas": null,
            "grid_template_columns": null,
            "grid_template_rows": null,
            "height": null,
            "justify_content": null,
            "justify_items": null,
            "left": null,
            "margin": null,
            "max_height": null,
            "max_width": null,
            "min_height": null,
            "min_width": null,
            "object_fit": null,
            "object_position": null,
            "order": null,
            "overflow": null,
            "overflow_x": null,
            "overflow_y": null,
            "padding": null,
            "right": null,
            "top": null,
            "visibility": null,
            "width": null
          }
        },
        "1c986f9dc6094f49bfca9e092a9ef73a": {
          "model_module": "@jupyter-widgets/controls",
          "model_name": "ButtonStyleModel",
          "model_module_version": "1.5.0",
          "state": {
            "_model_module": "@jupyter-widgets/controls",
            "_model_module_version": "1.5.0",
            "_model_name": "ButtonStyleModel",
            "_view_count": null,
            "_view_module": "@jupyter-widgets/base",
            "_view_module_version": "1.2.0",
            "_view_name": "StyleView",
            "button_color": null,
            "font_weight": ""
          }
        }
      }
    }
  },
  "cells": [
    {
      "cell_type": "markdown",
      "metadata": {
        "id": "view-in-github",
        "colab_type": "text"
      },
      "source": [
        "<a href=\"https://colab.research.google.com/github/faiver99/Adivina-el-numero/blob/master/Tarea2.ipynb\" target=\"_parent\"><img src=\"https://colab.research.google.com/assets/colab-badge.svg\" alt=\"Open In Colab\"/></a>"
      ]
    },
    {
      "cell_type": "markdown",
      "source": [
        "<div align=\"left\">\n",
        "<p><img alt=\"IUDigital\" height=\"140px\" src=\"https://iudigital.educatic.com.co/cas/images/logos/iudigital/logoLogin.png\" align=\"left\" hspace=\"10px\" vspace=\"0px\"></p></div>\n",
        "<div> </div>\n",
        "<div align=\"right\">\n",
        "<p><img alt=\"Posgrado\" height=\"140px\" src=\"https://www.iudigital.edu.co/images/Oferta%20Educativa/Tecnologia/TDSoftware/Banner%20Tecnologia%20en%20Desarrollode%20Software.png#joomlaImage://local-images/Oferta%20Educativa/Tecnologia/TDSoftware/Banner%20Tecnologia%20en%20Desarrollode%20Software.png\" align=\"right\" hspace=\"10px\" vspace=\"10px\"></p></div>\n",
        "<br></br>\n",
        "<br></br>\n",
        "<br></br>\n",
        "<br></br>\n",
        "<p>\n",
        "<h1> <b> Fundamentos de Programación </b> </h1>\n",
        "<h2> Ingeniería de Software y Datos  </h2>\n",
        "<hr size=10 noshade color=\"red\">\n",
        "</p>\n",
        "\n"
      ],
      "metadata": {
        "id": "VuipZbrNx6G9"
      }
    },
    {
      "cell_type": "markdown",
      "source": [
        "# (25%) Ejercicio 1\n",
        "Vamos a mejorar la solución del Ejercicio 1 - Tarea 1.\n",
        "Realice conversiones entre las unidades de medida presentadas en la siguiente tabla:\n",
        "\n",
        "| Índice | Conversión                           | Factor |\n",
        "|:------:|--------------------------------------|:------:|\n",
        "| 0      | Kilómetro a metro                    | 1000   |\n",
        "| 1      | Centímetro a metro                   | 0.01   |\n",
        "| 2      | Kilómetro por hora a millas por hora | 0.62   |\n",
        "| 3      | Nota en Educatic a nota en Canvas    | 20     |\n",
        "| 4      | Nota en Canvas a nota en Educatic    | 0.05   |\n",
        "| 5      | Mililitro a centímetro cúbico        | 1      |\n",
        "| 6      | Dólar (USA) a peso colombiano        |Actualizar|\n",
        "| 7      | Peso colombiano a dólar (USA)        |Actualizar|\n",
        "| 8      | Libra a kilogramo                    | 0.45   |\n",
        "| 9     | Minuto luz a kilómetro               | 17987539.67|\n",
        "\n",
        "Para este ejercicio se deben almacenar los factores de conversión en un vector (tipo de dato ```list``` de Python) para luego:\n",
        "\n",
        "- Solicitar al usuario que escoja el tipo de conversión que quiere realizar, para esto hay dos opciones:\n",
        " - Si trabajas en Google Colab puedes usar una lista desplegable, que es un tipo de campo de [formulario](https://www.youtube.com/watch?v=vx7yOZ5_Cw8) llamado *dropdown*\n",
        " - Si trabajas en otro editor puedes imprimir un menú de opciones numeradas y solicitarle al usuario que ingrese con ```input```el número de la opción que le interesa.\n",
        "\n",
        "- Solicitar al usuario que ingrese el dato que quiere convertir.\n",
        "- **Realizar una estructura de selección que convierta el dato ingresado por el usuario según el tipo de conversión que ha escogido.**\n",
        "\n",
        "Al igual que en la Tarea 1, se debe acceder al factor de conversión correspondiente de acuerdo a su posición o índice en el vector de factores de conversión.\n"
      ],
      "metadata": {
        "id": "bKdLoL-voFJb"
      }
    },
    {
      "cell_type": "code",
      "source": [
        "import math\n",
        "import numpy\n",
        "\n",
        "print(\" 0. Kilómetro a metro,\\n 1. Centímetro metro,\\n 2. Kilómetro por hora a millas por hora,\\n 3. Nota en Educatic a nota en Canvas \\n\",\n",
        " \"4. Nota en Canvas a nota en Educatic,\\n 5. Mililitro a centímetro cúbico, \\n 6. Dólar (USA) a peso colombiano \\n 7. Peso colombiano a dólar (USA),\\n 8. Libra a kilogramo,\\n 9. Minuto luz a kilómetro \\n\")\n",
        "\n",
        "\n",
        "\n",
        "factores = [1000, 0.01, 0.62, 20, 0.05, 1, 4200, 4200, 0.45, 17987539.67]\n",
        "\n",
        "\n",
        "Factor = int(input(\" Ingrese el índice del factor al que desea convertir (0-9): \"))\n",
        "\n",
        "\n",
        "if 0 <= Factor < len(factores):\n",
        "\n",
        "    ValorConvertir = float(input(\" Ingresa el valor que desea convertir: \"))\n",
        "\n",
        "\n",
        "    ValorConvertido = ValorConvertir * factores[Factor]\n",
        "    unidad = [\" metros\", \" metros\", \" millas por hora\", \" nota en canvas\", \" nota en educatic\", \" centimetro cubico\", \" peso colombiano\",\" dolar\", \" kilometro\", \" kilometro\"]\n",
        "    unidad2 = [\" kilometro\", \" centimetros\", \" kilometros\", \" nota en educatic\", \" nota en canvas\", \" milimetro\", \" dolares\",\" pesos\", \" libras\", \" minutos luz\"]\n",
        "    kill = unidad[Factor]\n",
        "    dead = unidad2[Factor]\n",
        "\n",
        "\n",
        "    print(f\"{ValorConvertir, dead} equivalen a {ValorConvertido, kill}\")\n",
        "\n",
        "else:\n",
        "    print(\" Índice no válido. Por favor, elija un índice entre 0 y 9.\")"
      ],
      "metadata": {
        "id": "YnQLfMXJXTZy",
        "colab": {
          "base_uri": "https://localhost:8080/"
        },
        "outputId": "c2667dda-1fa4-4034-dadf-c45401b585c1"
      },
      "execution_count": null,
      "outputs": [
        {
          "output_type": "stream",
          "name": "stdout",
          "text": [
            " 0. Kilómetro a metro,\n",
            " 1. Centímetro metro,\n",
            " 2. Kilómetro por hora a millas por hora,\n",
            " 3. Nota en Educatic a nota en Canvas \n",
            " 4. Nota en Canvas a nota en Educatic,\n",
            " 5. Mililitro a centímetro cúbico, \n",
            " 6. Dólar (USA) a peso colombiano \n",
            " 7. Peso colombiano a dólar (USA),\n",
            " 8. Libra a kilogramo,\n",
            " 9. Minuto luz a kilómetro \n",
            "\n",
            " Ingrese el índice del factor al que desea convertir (0-9): 0\n",
            " Ingresa el valor que desea convertir: 1\n",
            "(1.0, ' kilometro') equivalen a (1000.0, ' metros')\n"
          ]
        }
      ]
    },
    {
      "cell_type": "markdown",
      "source": [
        "# (25%) Ejercicio 2\n",
        "Estudie cómo realizar conversiones entre los sistemas de numeración Hexadecimal, Binario y Decimal.\n",
        "\n",
        "Programe un algoritmo que solicite al usuario un número entre 0 y 15 y entregue el valor correspondiente en los sistemas numéricos Hexadecimal y Binario.\n",
        "\n",
        "**Nota:** No está permitido usar funciones de conversión nativas como ``bin()``, ``hex()``, etc, o funciones similares de librerías."
      ],
      "metadata": {
        "id": "kdwhB6xi8n5I"
      }
    },
    {
      "cell_type": "code",
      "source": [
        "def cambio():\n",
        " def decimal_a_binario(decimal):\n",
        "    binario = \"\"\n",
        "    if decimal == 0:\n",
        "        return \"0\"\n",
        "    while decimal > 0:\n",
        "        residuo = decimal % 2\n",
        "        binario = str(residuo) + binario\n",
        "        decimal = decimal // 2\n",
        "    return binario.zfill(4)\n",
        "\n",
        " def decimal_a_hexadecimal(decimal):\n",
        "    hex_digitos = \"0123456789ABCDEF\"\n",
        "    if decimal < 16:\n",
        "        return hex_digitos[decimal]\n",
        "    return \"Valor fuera de rango\"\n",
        "\n",
        "\n",
        " def main():\n",
        "    numero = int(input(\"Ingrese un número entre 0 y 15: \"))\n",
        "    if 0 <= numero <= 15:\n",
        "        binario = decimal_a_binario(numero)\n",
        "        hexadecimal = decimal_a_hexadecimal(numero)\n",
        "        print(f\"Decimal: {numero}\")\n",
        "        print(f\"Binario: {binario}\")\n",
        "        print(f\"Hexadecimal: {hexadecimal}\")\n",
        "    else:\n",
        "        print(\"Número fuera del rango permitido.\")\n",
        "        cambio()\n",
        "\n",
        " if __name__ == \"__main__\":\n",
        "    main()\n",
        "\n",
        "cambio()\n"
      ],
      "metadata": {
        "id": "RHFMmRm_X3sd"
      },
      "execution_count": null,
      "outputs": []
    },
    {
      "cell_type": "markdown",
      "source": [
        "# (25%) Ejercicio 3\n",
        "\n",
        "Propiedades de los triángulos.\n",
        "*   Si tenemos tres segmentos de cualquier longitud, no siempre se puede construir un triángulo con ellos. En cualquier triángulo, la suma de dos de sus lados siempre es mayor que el tercer lado.\n",
        "*   La suma de los ángulos de un triángulo es igual a 180°.\n",
        "\n",
        "De acuerdo con la información descrita previamente, y haciendo uso de la función `input` realizar un algoritmo que reciba tres lados y tres ángulos y determine si puede dibujarse un triángulo, en caso contrario indicar qué  problemas presenta.\n",
        "\n"
      ],
      "metadata": {
        "id": "nHnp-5M12S5O"
      }
    },
    {
      "cell_type": "code",
      "source": [
        "lado1= float(input(\"ingrese el primer lado: \"))\n",
        "lado2= float(input(\"ingrese el segundo lado: \"))\n",
        "lado3= float(input(\"ingrese el tercer lado: \"))\n",
        "\n",
        "angulo1= float(input(\"ingrese el primer angulo: \"))\n",
        "angulo2= float(input(\"ingrese el segundo angulo: \"))\n",
        "angulo3= float(input(\"ingrese el tercer angulo: \"))\n",
        "\n",
        "sumlados1 = lado1+lado2\n",
        "sumlados2 = lado2+lado3\n",
        "sumlados3 = lado1+lado3\n",
        "\n",
        "suma1 = angulo1 + angulo2\n",
        "suma2 = angulo2 + angulo3\n",
        "suma3 = angulo1 + angulo3\n",
        "\n",
        "if suma1 <= 180 and suma2 <= 180 and suma3 <= 180:\n",
        "  if sumlados1 > lado3 and sumlados2 > lado1 and sumlados3 > lado2 :\n",
        "         print(\"se puede construir un triangulo\")\n",
        "  else:\n",
        "     print(\"no se puede construir un triangulo, la suma de dos de los lados es menor al tercer lados\")\n",
        "else :\n",
        "  print(\"no se puede construir un triangulo, la suma de los angulos internos es mayor a 180°\")\n",
        "\n"
      ],
      "metadata": {
        "colab": {
          "base_uri": "https://localhost:8080/"
        },
        "id": "ItLwBxgqlLQu",
        "outputId": "95516896-2eb1-4850-8126-a0634dfc252a"
      },
      "execution_count": null,
      "outputs": [
        {
          "output_type": "stream",
          "name": "stdout",
          "text": [
            "ingrese el primer lado: 2\n",
            "ingrese el segundo lado: 2\n",
            "ingrese el tercer lado: 2\n",
            "ingrese el primer angulo: 120\n",
            "ingrese el segundo angulo: 120\n",
            "ingrese el tercer angulo: 30\n",
            "no se puede construir un triangulo, la suma de los angulos internos es mayor a 180°\n"
          ]
        }
      ]
    },
    {
      "cell_type": "markdown",
      "source": [
        "# (25%) Ejercicio 4\n",
        "\n",
        "Al final del bloque completaremos un programa que permita calcular la calificación final de un curso de acuerdo al porcentaje de ponderación y a la calificación obtenida en cada tarea.\n",
        "\n",
        "En este ejercicio debes solicitar al usuario, con la función ```input``` o por medio de formularios, las ponderaciones de cada una de las 4 tareas de un curso. También, debes solicitarle la calificación obtenida y el nombre de cada tarea.\n",
        "\n",
        "Toda la información adquirida debe ser almacenada en un diccionario (revisa los cuadernos de práctica y los módulos de Canvas donde se presenta el concepto). Luego, calcularás la calificación global del curso para finalmente presentar un resumen del desempeño del usuario."
      ],
      "metadata": {
        "id": "O9hQ5pkrz8qy"
      }
    },
    {
      "cell_type": "code",
      "source": [
        "\n",
        "diccionario = {}\n",
        "\n",
        "\n",
        "for i in range(1, 5):\n",
        "  nombre_tarea = input(f\"Ingresa el nombre de la tarea {i}: \")\n",
        "  Peso = float(input(f\"Ingresa el peso de la terea {i} (ej: 0.25 para 25%): \"))\n",
        "  diccionario[nombre_tarea] = {'peso': Peso, 'Nota': 0}\n",
        "\n",
        "\n",
        "for nombre_tarea in diccionario:\n",
        "  Nota = float(input(f\"Ingrese la nota para la tarea {nombre_tarea}: \"))\n",
        "  diccionario[nombre_tarea]['Nota'] = Nota\n",
        "\n",
        "\n",
        "Nota_final = 0\n",
        "for nombre_tarea, datos_tareas in diccionario.items():\n",
        "  Nota_final += datos_tareas['peso'] * datos_tareas['Nota']\n",
        "\n",
        "\n",
        "print(\"\\n Resumen de notas:\")\n",
        "for nombre_tarea, datos_tareas in diccionario.items():\n",
        "  print(f\"{nombre_tarea}: Nota = {datos_tareas['Nota']}, peso = {datos_tareas['peso']}\")\n",
        "print(f\"Nota final: {Nota_final}\")\n"
      ],
      "metadata": {
        "id": "9_r3D3o2YItH",
        "colab": {
          "base_uri": "https://localhost:8080/"
        },
        "outputId": "6eac55c1-5396-4ceb-ed6a-e64af8c3d4e3"
      },
      "execution_count": null,
      "outputs": [
        {
          "output_type": "stream",
          "name": "stdout",
          "text": [
            "Ingresa el nombre de la tarea 1: hola\n",
            "Ingresa el peso de la terea 1 (ej: 0.25 para 25%): 0.25\n",
            "Ingresa el nombre de la tarea 2: como\n",
            "Ingresa el peso de la terea 2 (ej: 0.25 para 25%): 0.25\n",
            "Ingresa el nombre de la tarea 3: estas\n",
            "Ingresa el peso de la terea 3 (ej: 0.25 para 25%): 0.25\n",
            "Ingresa el nombre de la tarea 4: hoy\n",
            "Ingresa el peso de la terea 4 (ej: 0.25 para 25%): 0.25\n",
            "Ingrese la nota para la tarea hola: 5\n",
            "Ingrese la nota para la tarea como: 5\n",
            "Ingrese la nota para la tarea estas: 5\n",
            "Ingrese la nota para la tarea hoy: 5\n",
            "\n",
            " Resumen de notas:\n",
            "hola: Nota = 5.0, peso = 0.25\n",
            "como: Nota = 5.0, peso = 0.25\n",
            "estas: Nota = 5.0, peso = 0.25\n",
            "hoy: Nota = 5.0, peso = 0.25\n",
            "Nota final: 5.0\n",
            "{'hola': {'peso': 0.25, 'Nota': 5.0}, 'como': {'peso': 0.25, 'Nota': 5.0}, 'estas': {'peso': 0.25, 'Nota': 5.0}, 'hoy': {'peso': 0.25, 'Nota': 5.0}}\n"
          ]
        }
      ]
    },
    {
      "cell_type": "code",
      "source": [
        "import ipywidgets as widgets\n",
        "from IPython.display import display\n",
        "\n",
        "def calcular_nota_final(nombre_tarea1, peso_tarea1, nota_tarea1,\n",
        "                       nombre_tarea2, peso_tarea2, nota_tarea2,\n",
        "                       nombre_tarea3, peso_tarea3, nota_tarea3,\n",
        "                       nombre_tarea4, peso_tarea4, nota_tarea4):\n",
        "\n",
        "    diccionario = {\n",
        "        nombre_tarea1: {'peso': peso_tarea1, 'Nota': nota_tarea1},\n",
        "        nombre_tarea2: {'peso': peso_tarea2, 'Nota': nota_tarea2},\n",
        "        nombre_tarea3: {'peso': peso_tarea3, 'Nota': nota_tarea3},\n",
        "        nombre_tarea4: {'peso': peso_tarea4, 'Nota': nota_tarea4}\n",
        "    }\n",
        "\n",
        "    nota_final = 0\n",
        "    for nombre_tarea, datos_tareas in diccionario.items():\n",
        "        nota_final += datos_tareas['peso'] * datos_tareas['Nota']\n",
        "\n",
        "    print(f\"Nota final: {nota_final}\")\n",
        "\n",
        "\n",
        "nombre_tarea1 = widgets.Text(description=\"Nombre Tarea 1   :\")\n",
        "peso_tarea1 = widgets.FloatText(description=\"Peso Tarea 1   :\")\n",
        "nota_tarea1 = widgets.FloatText(description=\"Nota Tarea 1   :\")\n",
        "\n",
        "nombre_tarea2 = widgets.Text(description=\"Nombre Tarea 2:\")\n",
        "peso_tarea2 = widgets.FloatText(description=\"Peso Tarea 2:\")\n",
        "nota_tarea2 = widgets.FloatText(description=\"Nota Tarea 2:\")\n",
        "\n",
        "nombre_tarea3 = widgets.Text(description=\"Nombre Tarea 3:\")\n",
        "peso_tarea3 = widgets.FloatText(description=\"Peso Tarea 3:\")\n",
        "nota_tarea3 = widgets.FloatText(description=\"Nota Tarea 3:\")\n",
        "\n",
        "nombre_tarea4 = widgets.Text(description=\"Nombre Tarea 4:\")\n",
        "peso_tarea4 = widgets.FloatText(description=\"Peso Tarea 4:\")\n",
        "nota_tarea4 = widgets.FloatText(description=\"Nota Tarea 4:\")\n",
        "\n",
        "\n",
        "calcular_button = widgets.Button(description=\"Calcular\")\n",
        "\n",
        "\n",
        "def on_button_clicked(b):\n",
        "    calcular_nota_final(nombre_tarea1.value, peso_tarea1.value, nota_tarea1.value,\n",
        "                       nombre_tarea2.value, peso_tarea2.value, nota_tarea2.value,\n",
        "                       nombre_tarea3.value, peso_tarea3.value, nota_tarea3.value,\n",
        "                       nombre_tarea4.value, peso_tarea4.value, nota_tarea4.value)\n",
        "\n",
        "calcular_button.on_click(on_button_clicked)\n",
        "\n",
        "display(nombre_tarea1, peso_tarea1, nota_tarea1,\n",
        "        nombre_tarea2, peso_tarea2, nota_tarea2,\n",
        "        nombre_tarea3, peso_tarea3, nota_tarea3,\n",
        "        nombre_tarea4, peso_tarea4, nota_tarea4,\n",
        "\n",
        "        calcular_button)"
      ],
      "metadata": {
        "colab": {
          "base_uri": "https://localhost:8080/",
          "height": 414,
          "referenced_widgets": [
            "8e76bf29e1cb41bba687110503909ab8",
            "34eedbc6141b4f2cbcdc6c9cd0c8082c",
            "b60bec86a91844fc8957d0e0901123bd",
            "d11c20d1bd614c3b8fde4d37011541ed",
            "c8846186204642eea52ff857f24a2593",
            "4572a122d6724931b03ecdb22a57734a",
            "fe5e9249362e4308b5e8c806dd2ff41f",
            "0eedb8b6944943f791962f1400e3daae",
            "ed452fc8f58b4e81b1b84c946fad4076",
            "8523bb5e6140439881089e3f7dc95914",
            "b3e0bd2fd16340db9a364f23c6706a87",
            "41298774b9ac4029af001ca1b927b3ee",
            "6a04f9fbc5a748b2882aaa9c0f05247e",
            "c29a62163f9e4e518d34da57607e2a11",
            "a0fee33e25234f2baad1c83194351ae8",
            "0be7f98b609c4a34922b293e3b499b6c",
            "0d0c2bf2600843169a363e5aa26c7176",
            "699c2fdd53724f339d0eba9421ccfb8d",
            "0a78e4e72da343df87062926654e13b8",
            "7dc3f5a990f54eb0b661edb011cd9814",
            "f735b069955e42e58b92b4e6301e129b",
            "ae169624ede641b4b428ed8ed2a6ba4a",
            "730ea7d655514785afb15d8e1faedf2e",
            "e9472adcec1048948649103f31f965e2",
            "9858dff41615473183c1580845ab9031",
            "138929852f6548b0b9e9a7d642eb1b66",
            "e4a7abab01b443dbb023b9eb3d3c8a1d",
            "68c6dee6e2ef48179b52bf234d449c9e",
            "fa60d9cdabab417d99289ab2101306ae",
            "601906e82a5445ffa6aeb567dae2ec37",
            "0a36ba98b7f3473283a8b46f49c2d83b",
            "70e24e69297e43df9d0bf5e119677c89",
            "a51701ed6b714fae95cbc39e5ce572ca",
            "e3ebe5da8d58462f9f8cab5cdf39c723",
            "e5a58c67168440468ea81feeccdc69bf",
            "d87e2aaa97194f89a19233cbec9018b7",
            "d3091f40fff5443fbf4bb49635f9ee00",
            "fcfe951a9820471e8c9f062ba754b651",
            "1c986f9dc6094f49bfca9e092a9ef73a"
          ]
        },
        "id": "ONJykbsCI15A",
        "outputId": "760261f7-0340-481a-f41c-c468feb395ec"
      },
      "execution_count": null,
      "outputs": [
        {
          "output_type": "display_data",
          "data": {
            "text/plain": [
              "Text(value='', description='Nombre Tarea 1   :')"
            ],
            "application/vnd.jupyter.widget-view+json": {
              "version_major": 2,
              "version_minor": 0,
              "model_id": "8e76bf29e1cb41bba687110503909ab8"
            }
          },
          "metadata": {}
        },
        {
          "output_type": "display_data",
          "data": {
            "text/plain": [
              "FloatText(value=0.0, description='Peso Tarea 1   :')"
            ],
            "application/vnd.jupyter.widget-view+json": {
              "version_major": 2,
              "version_minor": 0,
              "model_id": "d11c20d1bd614c3b8fde4d37011541ed"
            }
          },
          "metadata": {}
        },
        {
          "output_type": "display_data",
          "data": {
            "text/plain": [
              "FloatText(value=0.0, description='Nota Tarea 1   :')"
            ],
            "application/vnd.jupyter.widget-view+json": {
              "version_major": 2,
              "version_minor": 0,
              "model_id": "fe5e9249362e4308b5e8c806dd2ff41f"
            }
          },
          "metadata": {}
        },
        {
          "output_type": "display_data",
          "data": {
            "text/plain": [
              "Text(value='', description='Nombre Tarea 2:')"
            ],
            "application/vnd.jupyter.widget-view+json": {
              "version_major": 2,
              "version_minor": 0,
              "model_id": "8523bb5e6140439881089e3f7dc95914"
            }
          },
          "metadata": {}
        },
        {
          "output_type": "display_data",
          "data": {
            "text/plain": [
              "FloatText(value=0.0, description='Peso Tarea 2:')"
            ],
            "application/vnd.jupyter.widget-view+json": {
              "version_major": 2,
              "version_minor": 0,
              "model_id": "6a04f9fbc5a748b2882aaa9c0f05247e"
            }
          },
          "metadata": {}
        },
        {
          "output_type": "display_data",
          "data": {
            "text/plain": [
              "FloatText(value=0.0, description='Nota Tarea 2:')"
            ],
            "application/vnd.jupyter.widget-view+json": {
              "version_major": 2,
              "version_minor": 0,
              "model_id": "0be7f98b609c4a34922b293e3b499b6c"
            }
          },
          "metadata": {}
        },
        {
          "output_type": "display_data",
          "data": {
            "text/plain": [
              "Text(value='', description='Nombre Tarea 3:')"
            ],
            "application/vnd.jupyter.widget-view+json": {
              "version_major": 2,
              "version_minor": 0,
              "model_id": "0a78e4e72da343df87062926654e13b8"
            }
          },
          "metadata": {}
        },
        {
          "output_type": "display_data",
          "data": {
            "text/plain": [
              "FloatText(value=0.0, description='Peso Tarea 3:')"
            ],
            "application/vnd.jupyter.widget-view+json": {
              "version_major": 2,
              "version_minor": 0,
              "model_id": "ae169624ede641b4b428ed8ed2a6ba4a"
            }
          },
          "metadata": {}
        },
        {
          "output_type": "display_data",
          "data": {
            "text/plain": [
              "FloatText(value=0.0, description='Nota Tarea 3:')"
            ],
            "application/vnd.jupyter.widget-view+json": {
              "version_major": 2,
              "version_minor": 0,
              "model_id": "9858dff41615473183c1580845ab9031"
            }
          },
          "metadata": {}
        },
        {
          "output_type": "display_data",
          "data": {
            "text/plain": [
              "Text(value='', description='Nombre Tarea 4:')"
            ],
            "application/vnd.jupyter.widget-view+json": {
              "version_major": 2,
              "version_minor": 0,
              "model_id": "68c6dee6e2ef48179b52bf234d449c9e"
            }
          },
          "metadata": {}
        },
        {
          "output_type": "display_data",
          "data": {
            "text/plain": [
              "FloatText(value=0.0, description='Peso Tarea 4:')"
            ],
            "application/vnd.jupyter.widget-view+json": {
              "version_major": 2,
              "version_minor": 0,
              "model_id": "0a36ba98b7f3473283a8b46f49c2d83b"
            }
          },
          "metadata": {}
        },
        {
          "output_type": "display_data",
          "data": {
            "text/plain": [
              "FloatText(value=0.0, description='Nota Tarea 4:')"
            ],
            "application/vnd.jupyter.widget-view+json": {
              "version_major": 2,
              "version_minor": 0,
              "model_id": "e3ebe5da8d58462f9f8cab5cdf39c723"
            }
          },
          "metadata": {}
        },
        {
          "output_type": "display_data",
          "data": {
            "text/plain": [
              "Button(description='Calcular', style=ButtonStyle())"
            ],
            "application/vnd.jupyter.widget-view+json": {
              "version_major": 2,
              "version_minor": 0,
              "model_id": "d3091f40fff5443fbf4bb49635f9ee00"
            }
          },
          "metadata": {}
        }
      ]
    }
  ]
}