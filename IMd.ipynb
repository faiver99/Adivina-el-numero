{
  "nbformat": 4,
  "nbformat_minor": 0,
  "metadata": {
    "colab": {
      "provenance": [],
      "name": "IMd.ipynb",
      "include_colab_link": true
    },
    "kernelspec": {
      "name": "python3",
      "display_name": "Python 3"
    },
    "language_info": {
      "name": "python"
    }
  },
  "cells": [
    {
      "cell_type": "markdown",
      "metadata": {
        "id": "view-in-github",
        "colab_type": "text"
      },
      "source": [
        "<a href=\"https://colab.research.google.com/github/faiver99/Adivina-el-numero/blob/master/IMd.ipynb\" target=\"_parent\"><img src=\"https://colab.research.google.com/assets/colab-badge.svg\" alt=\"Open In Colab\"/></a>"
      ]
    },
    {
      "cell_type": "markdown",
      "source": [
        "<div align=\"left\">\n",
        "<p><img alt=\"IUDigital\" height=\"140px\" src=\"https://iudigital.educatic.com.co/cas/images/logos/iudigital/logoLogin.png\" align=\"left\" hspace=\"10px\" vspace=\"0px\"></p></div>\n",
        "<div> </div>\n",
        "<div align=\"right\">\n",
        "<p><img alt=\"Posgrado\" height=\"140px\" src=\"https://www.iudigital.edu.co/images/Oferta%20Educativa/Tecnologia/TDSoftware/Banner%20Tecnologia%20en%20Desarrollode%20Software.png#joomlaImage://local-images/Oferta%20Educativa/Tecnologia/TDSoftware/Banner%20Tecnologia%20en%20Desarrollode%20Software.png\" align=\"right\" hspace=\"10px\" vspace=\"10px\"></p></div>\n",
        "<br></br>\n",
        "<br></br>\n",
        "<br></br>\n",
        "<br></br>\n",
        "<p>\n",
        "<h1> <b> Fundamentos de Programación </b> </h1>\n",
        "<h2> Ingeniería de Software y Datos  </h2>\n",
        "<hr size=10 noshade color=\"red\">\n",
        "</p>\n",
        "\n"
      ],
      "metadata": {
        "id": "VuipZbrNx6G9"
      }
    },
    {
      "cell_type": "markdown",
      "source": [
        "# (25%) Ejercicio 1\n",
        "Vamos a mejorar la solución del Ejercicio 1 - Tarea 1.\n",
        "Realice conversiones entre las unidades de medida presentadas en la siguiente tabla:\n",
        "\n",
        "| Índice | Conversión                           | Factor |\n",
        "|:------:|--------------------------------------|:------:|\n",
        "| 0      | Kilómetro a metro                    | 1000   |\n",
        "| 1      | Centímetro a metro                   | 0.01   |\n",
        "| 2      | Kilómetro por hora a millas por hora | 0.62   |\n",
        "| 3      | Nota en Educatic a nota en Canvas    | 20     |\n",
        "| 4      | Nota en Canvas a nota en Educatic    | 0.05   |\n",
        "| 5      | Mililitro a centímetro cúbico        | 1      |\n",
        "| 6      | Dólar (USA) a peso colombiano        |Actualizar|\n",
        "| 7      | Peso colombiano a dólar (USA)        |Actualizar|\n",
        "| 8      | Libra a kilogramo                    | 0.45   |\n",
        "| 9     | Minuto luz a kilómetro               | 17987539.67|\n",
        "\n",
        "Para este ejercicio se deben almacenar los factores de conversión en un vector (tipo de dato ```list``` de Python) para luego:\n",
        "\n",
        "- Solicitar al usuario que escoja el tipo de conversión que quiere realizar, para esto hay dos opciones:\n",
        " - Si trabajas en Google Colab puedes usar una lista desplegable, que es un tipo de campo de [formulario](https://www.youtube.com/watch?v=vx7yOZ5_Cw8) llamado *dropdown*\n",
        " - Si trabajas en otro editor puedes imprimir un menú de opciones numeradas y solicitarle al usuario que ingrese con ```input```el número de la opción que le interesa.\n",
        "\n",
        "- Solicitar al usuario que ingrese el dato que quiere convertir.\n",
        "- **Realizar una estructura de selección que convierta el dato ingresado por el usuario según el tipo de conversión que ha escogido.**\n",
        "\n",
        "Al igual que en la Tarea 1, se debe acceder al factor de conversión correspondiente de acuerdo a su posición o índice en el vector de factores de conversión.\n"
      ],
      "metadata": {
        "id": "bKdLoL-voFJb"
      }
    },
    {
      "cell_type": "code",
      "source": [
        "# Desarrolle su ejercicio aquí\n",
        "def decimal_a_binario(decimal):\n",
        "    binario = \"\"\n",
        "    if decimal == 0:\n",
        "        return \"0\"\n",
        "    while decimal > 0:\n",
        "        residuo = decimal % 2\n",
        "        binario = str(residuo) + binario\n",
        "        decimal = decimal // 2\n",
        "    return binario.zfill(4)  # Para mostrar siempre 4 bits\n",
        "\n",
        "def decimal_a_hexadecimal(decimal):\n",
        "    hex_digitos = \"0123456789ABCDEF\"\n",
        "    if decimal < 16:\n",
        "        return hex_digitos[decimal]\n",
        "    return \"Valor fuera de rango\"\n",
        "\n"
      ],
      "metadata": {
        "id": "YnQLfMXJXTZy"
      },
      "execution_count": null,
      "outputs": []
    },
    {
      "cell_type": "markdown",
      "source": [
        "# (25%) Ejercicio 2\n",
        "Estudie cómo realizar conversiones entre los sistemas de numeración Hexadecimal, Binario y Decimal.\n",
        "\n",
        "Programe un algoritmo que solicite al usuario un número entre 0 y 15 y entregue el valor correspondiente en los sistemas numéricos Hexadecimal y Binario.\n",
        "\n",
        "**Nota:** No está permitido usar funciones de conversión nativas como ``bin()``, ``hex()``, etc, o funciones similares de librerías."
      ],
      "metadata": {
        "id": "kdwhB6xi8n5I"
      }
    },
    {
      "cell_type": "code",
      "source": [
        "def to_hex(decimal):\n",
        "  if decimal < 10:\n",
        "    return str(decimal)\n",
        "  else:\n",
        "    return chr(ord('A') + decimal - 10)\n",
        "\n",
        "def to_binary(decimal):\n",
        "  binary = \"\"\n",
        "  for i in range(3, -1, -1):\n",
        "    if decimal >= (2 ** i):\n",
        "      binary += \"1\"\n",
        "      decimal -= (2 ** i)\n",
        "    else:\n",
        "      binary += \"0\"\n",
        "  return binary\n",
        "\n",
        "decimal_num = int(input(\"Enter a decimal number between 0 and 15: \"))\n",
        "\n",
        "if 0 <= decimal_num <= 15:\n",
        "  hexadecimal_num = to_hex(decimal_num)\n",
        "  binary_num = to_binary(decimal_num)\n",
        "\n",
        "  print(\"Hexadecimal:\", hexadecimal_num)\n",
        "  print(\"Binary:\", binary_num)\n",
        "else:\n",
        "  print(\"Invalid input. Please enter a number between 0 and 15.\")\n"
      ],
      "metadata": {
        "id": "RHFMmRm_X3sd",
        "colab": {
          "base_uri": "https://localhost:8080/"
        },
        "outputId": "2bb0f257-b0f1-43c7-b2a3-9bada9d31d80"
      },
      "execution_count": null,
      "outputs": [
        {
          "output_type": "stream",
          "name": "stdout",
          "text": [
            "Enter a decimal number between 0 and 15: 9\n",
            "Hexadecimal: 9\n",
            "Binary: 1001\n"
          ]
        }
      ]
    },
    {
      "cell_type": "markdown",
      "source": [
        "# (25%) Ejercicio 3\n",
        "\n",
        "Propiedades de los triángulos.\n",
        "*   Si tenemos tres segmentos de cualquier longitud, no siempre se puede construir un triángulo con ellos. En cualquier triángulo, la suma de dos de sus lados siempre es mayor que el tercer lado.\n",
        "*   La suma de los ángulos de un triángulo es igual a 180°.\n",
        "\n",
        "De acuerdo con la información descrita previamente, y haciendo uso de la función `input` realizar un algoritmo que reciba tres lados y tres ángulos y determine si puede dibujarse un triángulo, en caso contrario indicar qué  problemas presenta.\n",
        "\n"
      ],
      "metadata": {
        "id": "nHnp-5M12S5O"
      }
    },
    {
      "cell_type": "code",
      "source": [
        "lado1= float(input(\"ingrese el primer lado: \"))\n",
        "lado2= float(input(\"ingrese el segundo lado: \"))\n",
        "lado3= float(input(\"ingrese el tercer lado: \"))\n",
        "\n",
        "angulo1= float(input(\"ingrese el primer angulo: \"))\n",
        "angulo2= float(input(\"ingrese el segundo angulo: \"))\n",
        "angulo3= float(input(\"ingrese el tercer angulo: \"))\n",
        "\n",
        "sumlados1 = lado1+lado2\n",
        "sumlados2 = lado2+lado3\n",
        "sumlados3 = lado1+lado3\n",
        "\n",
        "suma1 = angulo1 + angulo2\n",
        "suma2 = angulo2 + angulo3\n",
        "suma3 = angulo1 + angulo3\n",
        "\n",
        "if suma1 <= 180 and suma2 <= 180 and suma3 <= 180:\n",
        "  if sumlados1 > lado3 and sumlados2 > lado1 and sumlados3 > lado2 :\n",
        "         print(\"se puede construir un triangulo\")\n",
        "  else:\n",
        "     print(\"no se puede construir un triangulo, la suma de dos de los lados es menor al tercer lados\")\n",
        "else :\n",
        "  print(\"no se puede construir un triangulo, la suma de los angulos internos es mayor a 180°\")\n",
        "\n"
      ],
      "metadata": {
        "colab": {
          "base_uri": "https://localhost:8080/"
        },
        "id": "ItLwBxgqlLQu",
        "outputId": "95516896-2eb1-4850-8126-a0634dfc252a"
      },
      "execution_count": null,
      "outputs": [
        {
          "output_type": "stream",
          "name": "stdout",
          "text": [
            "ingrese el primer lado: 2\n",
            "ingrese el segundo lado: 2\n",
            "ingrese el tercer lado: 2\n",
            "ingrese el primer angulo: 120\n",
            "ingrese el segundo angulo: 120\n",
            "ingrese el tercer angulo: 30\n",
            "no se puede construir un triangulo, la suma de los angulos internos es mayor a 180°\n"
          ]
        }
      ]
    },
    {
      "cell_type": "markdown",
      "source": [
        "# (25%) Ejercicio 4\n",
        "\n",
        "Al final del bloque completaremos un programa que permita calcular la calificación final de un curso de acuerdo al porcentaje de ponderación y a la calificación obtenida en cada tarea.\n",
        "\n",
        "En este ejercicio debes solicitar al usuario, con la función ```input``` o por medio de formularios, las ponderaciones de cada una de las 4 tareas de un curso. También, debes solicitarle la calificación obtenida y el nombre de cada tarea.\n",
        "\n",
        "Toda la información adquirida debe ser almacenada en un diccionario (revisa los cuadernos de práctica y los módulos de Canvas donde se presenta el concepto). Luego, calcularás la calificación global del curso para finalmente presentar un resumen del desempeño del usuario."
      ],
      "metadata": {
        "id": "O9hQ5pkrz8qy"
      }
    },
    {
      "cell_type": "code",
      "source": [
        "# Create an empty dictionary to store task information\n",
        "course_grades = {}\n",
        "\n",
        "# Get task names and weights from the user\n",
        "for i in range(1, 5):\n",
        "  task_name = input(f\"Enter the name of Task {i}: \")\n",
        "  task_weight = float(input(f\"Enter the weight of Task {i} (e.g., 0.25 for 25%): \"))\n",
        "  course_grades[task_name] = {'weight': task_weight, 'grade': 0}  # Initialize grade to 0\n",
        "\n",
        "# Get grades for each task\n",
        "for task_name in course_grades:\n",
        "  grade = float(input(f\"Enter the grade for {task_name}: \"))\n",
        "  course_grades[task_name]['grade'] = grade\n",
        "\n",
        "# Calculate the final grade\n",
        "final_grade = 0\n",
        "for task_name, task_data in course_grades.items():\n",
        "  final_grade += task_data['weight'] * task_data['grade']\n",
        "\n",
        "# Print a summary of the user's performance\n",
        "print(\"\\nCourse Performance Summary:\")\n",
        "for task_name, task_data in course_grades.items():\n",
        "  print(f\"{task_name}: Grade = {task_data['grade']}, Weight = {task_data['weight']}\")\n",
        "print(f\"Final Grade: {final_grade}\")"
      ],
      "metadata": {
        "id": "9_r3D3o2YItH",
        "colab": {
          "base_uri": "https://localhost:8080/"
        },
        "outputId": "9ad2ebac-14ec-4345-8215-ff1352b51f3b"
      },
      "execution_count": null,
      "outputs": [
        {
          "output_type": "stream",
          "name": "stdout",
          "text": [
            "Enter the name of Task 1: mate1\n",
            "Enter the weight of Task 1 (e.g., 0.25 for 25%): 0.25\n",
            "Enter the name of Task 2: mate2\n",
            "Enter the weight of Task 2 (e.g., 0.25 for 25%): 0.25\n",
            "Enter the name of Task 3: mate2\n",
            "Enter the weight of Task 3 (e.g., 0.25 for 25%): 0.25\n",
            "Enter the name of Task 4: mate4\n",
            "Enter the weight of Task 4 (e.g., 0.25 for 25%): 0.256\n",
            "Enter the grade for mate1: 4\n",
            "Enter the grade for mate2: 3\n",
            "Enter the grade for mate4: 3\n",
            "\n",
            "Course Performance Summary:\n",
            "mate1: Grade = 4.0, Weight = 0.25\n",
            "mate2: Grade = 3.0, Weight = 0.25\n",
            "mate4: Grade = 3.0, Weight = 0.256\n",
            "Final Grade: 2.518\n"
          ]
        }
      ]
    }
  ]
}